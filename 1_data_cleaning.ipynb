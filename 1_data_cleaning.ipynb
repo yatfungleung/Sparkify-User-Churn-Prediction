{
 "metadata": {
  "language_info": {
   "codemirror_mode": {
    "name": "ipython",
    "version": 3
   },
   "file_extension": ".py",
   "mimetype": "text/x-python",
   "name": "python",
   "nbconvert_exporter": "python",
   "pygments_lexer": "ipython3",
   "version": "3.9.5"
  },
  "orig_nbformat": 4,
  "kernelspec": {
   "name": "python3",
   "display_name": "Python 3.9.5 64-bit ('env': venv)"
  },
  "interpreter": {
   "hash": "ff8668b9c2b2d1baaf1a01ba69b056e3b7375889890260109335ff682838045a"
  }
 },
 "nbformat": 4,
 "nbformat_minor": 2,
 "cells": [
  {
   "cell_type": "markdown",
   "source": [
    "# 1.1 Imports"
   ],
   "metadata": {}
  },
  {
   "cell_type": "code",
   "execution_count": 1,
   "source": [
    "# import libraries\n",
    "\n",
    "import numpy as np\n",
    "import pandas as pd\n",
    "import seaborn as sns\n",
    "\n",
    "import matplotlib.pyplot as plt\n",
    "# %matplotlib inline\n",
    "\n",
    "from datetime import datetime\n",
    "\n",
    "from pyspark.sql import SparkSession, Window\n",
    "from pyspark import SparkFiles\n",
    "from pyspark.sql.functions import avg, col, concat, count, desc, \\\n",
    "asc, explode, lit, min, max, split, stddev, udf, isnan, when, rank, \\\n",
    "log, sqrt, cbrt, exp, round\n",
    "from pyspark.sql.functions import sum as Fsum\n",
    "from pyspark.sql.types import IntegerType\n",
    "\n",
    "from pyspark.ml import Pipeline\n",
    "from pyspark.ml.classification import LogisticRegression, \\\n",
    "LogisticRegressionModel, RandomForestClassifier, \\\n",
    "RandomForestClassificationModel, GBTClassifier, \\\n",
    "GBTClassificationModel\n",
    "from pyspark.ml.evaluation import MulticlassClassificationEvaluator\n",
    "from pyspark.mllib.evaluation import MulticlassMetrics\n",
    "\n",
    "from pyspark.ml.feature import CountVectorizer, IDF, Normalizer, \\\n",
    "PCA, RegexTokenizer, Tokenizer, StandardScaler, StopWordsRemover, \\\n",
    "StringIndexer, VectorAssembler, MaxAbsScaler\n",
    "from pyspark.ml.regression import LinearRegression\n",
    "from pyspark.ml.clustering import KMeans\n",
    "from pyspark.ml.tuning import CrossValidator, ParamGridBuilder"
   ],
   "outputs": [],
   "metadata": {}
  },
  {
   "cell_type": "code",
   "execution_count": 2,
   "source": [
    "import warnings\n",
    "warnings.filterwarnings('ignore')"
   ],
   "outputs": [],
   "metadata": {}
  },
  {
   "cell_type": "code",
   "execution_count": 3,
   "source": [
    "# create parksession\n",
    "\n",
    "spark = SparkSession.builder.master('local') \\\n",
    "        .appName('Sparkify').getOrCreate()"
   ],
   "outputs": [
    {
     "output_type": "stream",
     "name": "stderr",
     "text": [
      "21/08/02 17:07:54 WARN Utils: Your hostname, Yats-MacBook-Pro.local resolves to a loopback address: 127.0.0.1; using 172.20.10.3 instead (on interface en0)\n",
      "21/08/02 17:07:54 WARN Utils: Set SPARK_LOCAL_IP if you need to bind to another address\n",
      "WARNING: An illegal reflective access operation has occurred\n",
      "WARNING: Illegal reflective access by org.apache.spark.unsafe.Platform (file:/Users/abrahamleung/Documents/GitHub/Sparkify-User-Churn-Prediction/env/lib/python3.9/site-packages/pyspark/jars/spark-unsafe_2.12-3.1.2.jar) to constructor java.nio.DirectByteBuffer(long,int)\n",
      "WARNING: Please consider reporting this to the maintainers of org.apache.spark.unsafe.Platform\n",
      "WARNING: Use --illegal-access=warn to enable warnings of further illegal reflective access operations\n",
      "WARNING: All illegal access operations will be denied in a future release\n",
      "21/08/02 17:07:55 WARN NativeCodeLoader: Unable to load native-hadoop library for your platform... using builtin-java classes where applicable\n",
      "Using Spark's default log4j profile: org/apache/spark/log4j-defaults.properties\n",
      "Setting default log level to \"WARN\".\n",
      "To adjust logging level use sc.setLogLevel(newLevel). For SparkR, use setLogLevel(newLevel).\n"
     ]
    }
   ],
   "metadata": {}
  },
  {
   "cell_type": "code",
   "execution_count": 4,
   "source": [
    "# load data\n",
    "\n",
    "path = 'mini_sparkify_event_data.json'\n",
    "df = spark.read.json(path)\n",
    "df.head()"
   ],
   "outputs": [
    {
     "output_type": "stream",
     "name": "stderr",
     "text": []
    },
    {
     "output_type": "execute_result",
     "data": {
      "text/plain": [
       "Row(artist='Martha Tilston', auth='Logged In', firstName='Colin', gender='M', itemInSession=50, lastName='Freeman', length=277.89016, level='paid', location='Bakersfield, CA', method='PUT', page='NextSong', registration=1538173362000, sessionId=29, song='Rockpools', status=200, ts=1538352117000, userAgent='Mozilla/5.0 (Windows NT 6.1; WOW64; rv:31.0) Gecko/20100101 Firefox/31.0', userId='30')"
      ]
     },
     "metadata": {},
     "execution_count": 4
    }
   ],
   "metadata": {}
  },
  {
   "cell_type": "code",
   "execution_count": 5,
   "source": [
    "# check schema\n",
    "df.printSchema()"
   ],
   "outputs": [
    {
     "output_type": "stream",
     "name": "stdout",
     "text": [
      "root\n",
      " |-- artist: string (nullable = true)\n",
      " |-- auth: string (nullable = true)\n",
      " |-- firstName: string (nullable = true)\n",
      " |-- gender: string (nullable = true)\n",
      " |-- itemInSession: long (nullable = true)\n",
      " |-- lastName: string (nullable = true)\n",
      " |-- length: double (nullable = true)\n",
      " |-- level: string (nullable = true)\n",
      " |-- location: string (nullable = true)\n",
      " |-- method: string (nullable = true)\n",
      " |-- page: string (nullable = true)\n",
      " |-- registration: long (nullable = true)\n",
      " |-- sessionId: long (nullable = true)\n",
      " |-- song: string (nullable = true)\n",
      " |-- status: long (nullable = true)\n",
      " |-- ts: long (nullable = true)\n",
      " |-- userAgent: string (nullable = true)\n",
      " |-- userId: string (nullable = true)\n",
      "\n"
     ]
    }
   ],
   "metadata": {}
  },
  {
   "cell_type": "markdown",
   "source": [
    "# 1.2 Missing Values"
   ],
   "metadata": {}
  },
  {
   "cell_type": "markdown",
   "source": [
    "# 1.2.1 Observations"
   ],
   "metadata": {}
  },
  {
   "cell_type": "code",
   "execution_count": 6,
   "source": [
    "# total number of rows\n",
    "print(f'total number of rows: {df.count()}')"
   ],
   "outputs": [
    {
     "output_type": "stream",
     "name": "stderr",
     "text": []
    },
    {
     "output_type": "stream",
     "name": "stdout",
     "text": [
      "total number of rows: 286500\n"
     ]
    },
    {
     "output_type": "stream",
     "name": "stderr",
     "text": []
    }
   ],
   "metadata": {}
  },
  {
   "cell_type": "code",
   "execution_count": 7,
   "source": [
    "# number of missing values\n",
    "\n",
    "for c in df.columns:\n",
    "    df.select(\n",
    "        [count(when(df[c].isNull(),True))]\n",
    "    ).show()"
   ],
   "outputs": [
    {
     "output_type": "stream",
     "name": "stderr",
     "text": []
    },
    {
     "output_type": "stream",
     "name": "stdout",
     "text": [
      "+-----------------------------------------------+\n",
      "|count(CASE WHEN (artist IS NULL) THEN true END)|\n",
      "+-----------------------------------------------+\n",
      "|                                          58392|\n",
      "+-----------------------------------------------+\n",
      "\n"
     ]
    },
    {
     "output_type": "stream",
     "name": "stderr",
     "text": []
    },
    {
     "output_type": "stream",
     "name": "stdout",
     "text": [
      "+---------------------------------------------+\n",
      "|count(CASE WHEN (auth IS NULL) THEN true END)|\n",
      "+---------------------------------------------+\n",
      "|                                            0|\n",
      "+---------------------------------------------+\n",
      "\n"
     ]
    },
    {
     "output_type": "stream",
     "name": "stderr",
     "text": []
    },
    {
     "output_type": "stream",
     "name": "stdout",
     "text": [
      "+--------------------------------------------------+\n",
      "|count(CASE WHEN (firstName IS NULL) THEN true END)|\n",
      "+--------------------------------------------------+\n",
      "|                                              8346|\n",
      "+--------------------------------------------------+\n",
      "\n"
     ]
    },
    {
     "output_type": "stream",
     "name": "stderr",
     "text": []
    },
    {
     "output_type": "stream",
     "name": "stdout",
     "text": [
      "+-----------------------------------------------+\n",
      "|count(CASE WHEN (gender IS NULL) THEN true END)|\n",
      "+-----------------------------------------------+\n",
      "|                                           8346|\n",
      "+-----------------------------------------------+\n",
      "\n"
     ]
    },
    {
     "output_type": "stream",
     "name": "stderr",
     "text": []
    },
    {
     "output_type": "stream",
     "name": "stdout",
     "text": [
      "+------------------------------------------------------+\n",
      "|count(CASE WHEN (itemInSession IS NULL) THEN true END)|\n",
      "+------------------------------------------------------+\n",
      "|                                                     0|\n",
      "+------------------------------------------------------+\n",
      "\n"
     ]
    },
    {
     "output_type": "stream",
     "name": "stderr",
     "text": []
    },
    {
     "output_type": "stream",
     "name": "stdout",
     "text": [
      "+-------------------------------------------------+\n",
      "|count(CASE WHEN (lastName IS NULL) THEN true END)|\n",
      "+-------------------------------------------------+\n",
      "|                                             8346|\n",
      "+-------------------------------------------------+\n",
      "\n"
     ]
    },
    {
     "output_type": "stream",
     "name": "stderr",
     "text": []
    },
    {
     "output_type": "stream",
     "name": "stdout",
     "text": [
      "+-----------------------------------------------+\n",
      "|count(CASE WHEN (length IS NULL) THEN true END)|\n",
      "+-----------------------------------------------+\n",
      "|                                          58392|\n",
      "+-----------------------------------------------+\n",
      "\n"
     ]
    },
    {
     "output_type": "stream",
     "name": "stderr",
     "text": []
    },
    {
     "output_type": "stream",
     "name": "stdout",
     "text": [
      "+----------------------------------------------+\n",
      "|count(CASE WHEN (level IS NULL) THEN true END)|\n",
      "+----------------------------------------------+\n",
      "|                                             0|\n",
      "+----------------------------------------------+\n",
      "\n"
     ]
    },
    {
     "output_type": "stream",
     "name": "stderr",
     "text": []
    },
    {
     "output_type": "stream",
     "name": "stdout",
     "text": [
      "+-------------------------------------------------+\n",
      "|count(CASE WHEN (location IS NULL) THEN true END)|\n",
      "+-------------------------------------------------+\n",
      "|                                             8346|\n",
      "+-------------------------------------------------+\n",
      "\n"
     ]
    },
    {
     "output_type": "stream",
     "name": "stderr",
     "text": []
    },
    {
     "output_type": "stream",
     "name": "stdout",
     "text": [
      "+-----------------------------------------------+\n",
      "|count(CASE WHEN (method IS NULL) THEN true END)|\n",
      "+-----------------------------------------------+\n",
      "|                                              0|\n",
      "+-----------------------------------------------+\n",
      "\n"
     ]
    },
    {
     "output_type": "stream",
     "name": "stderr",
     "text": []
    },
    {
     "output_type": "stream",
     "name": "stdout",
     "text": [
      "+---------------------------------------------+\n",
      "|count(CASE WHEN (page IS NULL) THEN true END)|\n",
      "+---------------------------------------------+\n",
      "|                                            0|\n",
      "+---------------------------------------------+\n",
      "\n"
     ]
    },
    {
     "output_type": "stream",
     "name": "stderr",
     "text": []
    },
    {
     "output_type": "stream",
     "name": "stdout",
     "text": [
      "+-----------------------------------------------------+\n",
      "|count(CASE WHEN (registration IS NULL) THEN true END)|\n",
      "+-----------------------------------------------------+\n",
      "|                                                 8346|\n",
      "+-----------------------------------------------------+\n",
      "\n",
      "+--------------------------------------------------+\n",
      "|count(CASE WHEN (sessionId IS NULL) THEN true END)|\n",
      "+--------------------------------------------------+\n",
      "|                                                 0|\n",
      "+--------------------------------------------------+\n",
      "\n"
     ]
    },
    {
     "output_type": "stream",
     "name": "stderr",
     "text": []
    },
    {
     "output_type": "stream",
     "name": "stdout",
     "text": [
      "+---------------------------------------------+\n",
      "|count(CASE WHEN (song IS NULL) THEN true END)|\n",
      "+---------------------------------------------+\n",
      "|                                        58392|\n",
      "+---------------------------------------------+\n",
      "\n",
      "+-----------------------------------------------+\n",
      "|count(CASE WHEN (status IS NULL) THEN true END)|\n",
      "+-----------------------------------------------+\n",
      "|                                              0|\n",
      "+-----------------------------------------------+\n",
      "\n"
     ]
    },
    {
     "output_type": "stream",
     "name": "stderr",
     "text": []
    },
    {
     "output_type": "stream",
     "name": "stdout",
     "text": [
      "+-------------------------------------------+\n",
      "|count(CASE WHEN (ts IS NULL) THEN true END)|\n",
      "+-------------------------------------------+\n",
      "|                                          0|\n",
      "+-------------------------------------------+\n",
      "\n"
     ]
    },
    {
     "output_type": "stream",
     "name": "stderr",
     "text": []
    },
    {
     "output_type": "stream",
     "name": "stdout",
     "text": [
      "+--------------------------------------------------+\n",
      "|count(CASE WHEN (userAgent IS NULL) THEN true END)|\n",
      "+--------------------------------------------------+\n",
      "|                                              8346|\n",
      "+--------------------------------------------------+\n",
      "\n",
      "+-----------------------------------------------+\n",
      "|count(CASE WHEN (userId IS NULL) THEN true END)|\n",
      "+-----------------------------------------------+\n",
      "|                                              0|\n",
      "+-----------------------------------------------+\n",
      "\n"
     ]
    },
    {
     "output_type": "stream",
     "name": "stderr",
     "text": []
    }
   ],
   "metadata": {}
  },
  {
   "cell_type": "markdown",
   "source": [
    "# 1.2.2 Missing Values in userId"
   ],
   "metadata": {}
  },
  {
   "cell_type": "code",
   "execution_count": 8,
   "source": [
    "# from above findings, 0 rows in userId is NULL\n",
    "# so we check for samples\n",
    "\n",
    "df.select(['userId']).drop_duplicates().orderBy(df['userId']).show(10)"
   ],
   "outputs": [
    {
     "output_type": "stream",
     "name": "stderr",
     "text": []
    },
    {
     "output_type": "stream",
     "name": "stdout",
     "text": [
      "+------+\n",
      "|userId|\n",
      "+------+\n",
      "|      |\n",
      "|    10|\n",
      "|   100|\n",
      "|100001|\n",
      "|100002|\n",
      "|100003|\n",
      "|100004|\n",
      "|100005|\n",
      "|100006|\n",
      "|100007|\n",
      "+------+\n",
      "only showing top 10 rows\n",
      "\n"
     ]
    },
    {
     "output_type": "stream",
     "name": "stderr",
     "text": []
    }
   ],
   "metadata": {}
  },
  {
   "cell_type": "code",
   "execution_count": 9,
   "source": [
    "# the first row is an empty string"
   ],
   "outputs": [],
   "metadata": {}
  },
  {
   "cell_type": "code",
   "execution_count": 10,
   "source": [
    "# create a temporary view for running SQL queries\n",
    "df.createOrReplaceTempView('df_table')"
   ],
   "outputs": [],
   "metadata": {}
  },
  {
   "cell_type": "code",
   "execution_count": 11,
   "source": [
    "# display the page events of the user with empty string userId\n",
    "\n",
    "spark.sql(\n",
    "    '''\n",
    "    SELECT DISTINCT page\n",
    "    FROM df_table\n",
    "    WHERE userId == ''\n",
    "    '''\n",
    ").show()"
   ],
   "outputs": [
    {
     "output_type": "stream",
     "name": "stderr",
     "text": []
    },
    {
     "output_type": "stream",
     "name": "stdout",
     "text": [
      "+-------------------+\n",
      "|               page|\n",
      "+-------------------+\n",
      "|               Home|\n",
      "|              About|\n",
      "|Submit Registration|\n",
      "|              Login|\n",
      "|           Register|\n",
      "|               Help|\n",
      "|              Error|\n",
      "+-------------------+\n",
      "\n"
     ]
    }
   ],
   "metadata": {}
  },
  {
   "cell_type": "code",
   "execution_count": 12,
   "source": [
    "# display the page events of another user with non-empty string userId\n",
    "\n",
    "spark.sql(\n",
    "    '''\n",
    "    SELECT DISTINCT page\n",
    "    FROM df_table\n",
    "    WHERE userId == 100001\n",
    "    '''\n",
    ").show()"
   ],
   "outputs": [
    {
     "output_type": "stream",
     "name": "stderr",
     "text": []
    },
    {
     "output_type": "stream",
     "name": "stdout",
     "text": [
      "+--------------------+\n",
      "|                page|\n",
      "+--------------------+\n",
      "|              Cancel|\n",
      "|         Thumbs Down|\n",
      "|                Home|\n",
      "|         Roll Advert|\n",
      "|              Logout|\n",
      "|Cancellation Conf...|\n",
      "|            Settings|\n",
      "|     Add to Playlist|\n",
      "|          Add Friend|\n",
      "|            NextSong|\n",
      "|           Thumbs Up|\n",
      "|                Help|\n",
      "|             Upgrade|\n",
      "|               Error|\n",
      "+--------------------+\n",
      "\n"
     ]
    }
   ],
   "metadata": {}
  },
  {
   "cell_type": "code",
   "execution_count": 13,
   "source": [
    "# we can see that \n",
    "# the page events of empty string userId user has nearly no features page except\n",
    "# 'Submit Registration' which might indicate that it is a user with incomplete registration"
   ],
   "outputs": [],
   "metadata": {}
  },
  {
   "cell_type": "code",
   "execution_count": 14,
   "source": [
    "# drop the row with empty userId\n",
    "df = df.filter(df['userId'] != '')"
   ],
   "outputs": [],
   "metadata": {}
  },
  {
   "cell_type": "markdown",
   "source": [
    "# 1.3 Feature Engineering"
   ],
   "metadata": {}
  },
  {
   "cell_type": "markdown",
   "source": [
    "# 1.3.1 Overview of Numerical Features"
   ],
   "metadata": {}
  },
  {
   "cell_type": "code",
   "execution_count": 15,
   "source": [
    "# number of unique users\n",
    "\n",
    "unique_users = df.select('userId').drop_duplicates().count()\n",
    "print(unique_users)"
   ],
   "outputs": [
    {
     "output_type": "stream",
     "name": "stderr",
     "text": []
    },
    {
     "output_type": "stream",
     "name": "stdout",
     "text": [
      "225\n"
     ]
    },
    {
     "output_type": "stream",
     "name": "stderr",
     "text": []
    }
   ],
   "metadata": {}
  },
  {
   "cell_type": "code",
   "execution_count": 16,
   "source": [
    "# numerical columns\n",
    "num_cols = ['itemInSession', 'registration', 'status', 'ts', 'length']"
   ],
   "outputs": [],
   "metadata": {}
  },
  {
   "cell_type": "code",
   "execution_count": 17,
   "source": [
    "# describe numerical columns\n",
    "df.select(num_cols).describe().show()"
   ],
   "outputs": [
    {
     "output_type": "stream",
     "name": "stderr",
     "text": []
    },
    {
     "output_type": "stream",
     "name": "stdout",
     "text": [
      "+-------+------------------+--------------------+------------------+--------------------+-----------------+\n",
      "|summary|     itemInSession|        registration|            status|                  ts|           length|\n",
      "+-------+------------------+--------------------+------------------+--------------------+-----------------+\n",
      "|  count|            278154|              278154|            278154|              278154|           228108|\n",
      "|   mean|114.89918174824018|1.535358834084427...|209.10321620397335|1.540958915431871...|249.1171819778458|\n",
      "| stddev|  129.851729399489| 3.291321616327586E9|30.151388851328214|1.5068287123306298E9|99.23517921058361|\n",
      "|    min|                 0|       1521380675000|               200|       1538352117000|          0.78322|\n",
      "|    max|              1321|       1543247354000|               404|       1543799476000|       3024.66567|\n",
      "+-------+------------------+--------------------+------------------+--------------------+-----------------+\n",
      "\n"
     ]
    },
    {
     "output_type": "stream",
     "name": "stderr",
     "text": []
    }
   ],
   "metadata": {}
  },
  {
   "cell_type": "code",
   "execution_count": 18,
   "source": [
    "# 'status' is HTTP status\n",
    "\n",
    "header = 'status'\n",
    "df.groupBy(header).count() \\\n",
    ".withColumn('%', round((col('count')/df.count())*100,2)) \\\n",
    ".orderBy('%', ascending=False).show()"
   ],
   "outputs": [
    {
     "output_type": "stream",
     "name": "stderr",
     "text": []
    },
    {
     "output_type": "stream",
     "name": "stdout",
     "text": [
      "+------+------+-----+\n",
      "|status| count|    %|\n",
      "+------+------+-----+\n",
      "|   200|254718|91.57|\n",
      "|   307| 23184| 8.33|\n",
      "|   404|   252| 0.09|\n",
      "+------+------+-----+\n",
      "\n"
     ]
    },
    {
     "output_type": "stream",
     "name": "stderr",
     "text": []
    }
   ],
   "metadata": {}
  },
  {
   "cell_type": "code",
   "execution_count": 19,
   "source": [
    "# 'status' should be classified as categorical feature"
   ],
   "outputs": [],
   "metadata": {}
  },
  {
   "cell_type": "markdown",
   "source": [
    "# 1.3.2 Overview of Categorical Features"
   ],
   "metadata": {}
  },
  {
   "cell_type": "code",
   "execution_count": 20,
   "source": [
    "# catagorical columns\n",
    "cat_cols = [\n",
    "    'artist', 'auth', 'firstName', 'lastName', \n",
    "    'gender', 'level', 'location','method', \n",
    "    'page', 'song', 'userAgent'\n",
    "]"
   ],
   "outputs": [],
   "metadata": {}
  },
  {
   "cell_type": "code",
   "execution_count": 21,
   "source": [
    "# we only observe the features that can be classified"
   ],
   "outputs": [],
   "metadata": {}
  },
  {
   "cell_type": "code",
   "execution_count": 22,
   "source": [
    "# values count of 'auth'\n",
    "\n",
    "header = 'auth'\n",
    "df.groupBy(header).count() \\\n",
    ".withColumn('%', round((col('count')/df.count())*100,2)) \\\n",
    ".orderBy('%', ascending=False).show()"
   ],
   "outputs": [
    {
     "output_type": "stream",
     "name": "stderr",
     "text": []
    },
    {
     "output_type": "stream",
     "name": "stdout",
     "text": [
      "+---------+------+-----+\n",
      "|     auth| count|    %|\n",
      "+---------+------+-----+\n",
      "|Logged In|278102|99.98|\n",
      "|Cancelled|    52| 0.02|\n",
      "+---------+------+-----+\n",
      "\n"
     ]
    },
    {
     "output_type": "stream",
     "name": "stderr",
     "text": []
    }
   ],
   "metadata": {
    "tags": []
   }
  },
  {
   "cell_type": "code",
   "execution_count": 23,
   "source": [
    "# values count of 'gender'\n",
    "\n",
    "header = 'gender'\n",
    "df.groupBy(header).count() \\\n",
    ".withColumn('%', round((col('count')/df.count())*100,2)) \\\n",
    ".orderBy('%', ascending=False).show()"
   ],
   "outputs": [
    {
     "output_type": "stream",
     "name": "stderr",
     "text": []
    },
    {
     "output_type": "stream",
     "name": "stdout",
     "text": [
      "+------+------+-----+\n",
      "|gender| count|    %|\n",
      "+------+------+-----+\n",
      "|     F|154578|55.57|\n",
      "|     M|123576|44.43|\n",
      "+------+------+-----+\n",
      "\n"
     ]
    },
    {
     "output_type": "stream",
     "name": "stderr",
     "text": []
    }
   ],
   "metadata": {}
  },
  {
   "cell_type": "code",
   "execution_count": 24,
   "source": [
    "# values count of 'level'\n",
    "\n",
    "header = 'level'\n",
    "df.groupBy(header).count() \\\n",
    ".withColumn('%', round((col('count')/df.count())*100,2)) \\\n",
    ".orderBy('%', ascending=False).show()"
   ],
   "outputs": [
    {
     "output_type": "stream",
     "name": "stderr",
     "text": []
    },
    {
     "output_type": "stream",
     "name": "stdout",
     "text": [
      "+-----+------+-----+\n",
      "|level| count|    %|\n",
      "+-----+------+-----+\n",
      "| paid|222433|79.97|\n",
      "| free| 55721|20.03|\n",
      "+-----+------+-----+\n",
      "\n"
     ]
    },
    {
     "output_type": "stream",
     "name": "stderr",
     "text": []
    }
   ],
   "metadata": {}
  },
  {
   "cell_type": "code",
   "execution_count": 25,
   "source": [
    "# first 5 values count of 'location'\n",
    "\n",
    "header = 'location'\n",
    "df.groupBy(header).count() \\\n",
    ".withColumn('%', round((col('count')/df.count())*100,2)) \\\n",
    ".orderBy('%', ascending=False).limit(5).show()"
   ],
   "outputs": [
    {
     "output_type": "stream",
     "name": "stderr",
     "text": []
    },
    {
     "output_type": "stream",
     "name": "stdout",
     "text": [
      "+--------------------+-----+-----+\n",
      "|            location|count|    %|\n",
      "+--------------------+-----+-----+\n",
      "|Los Angeles-Long ...|30131|10.83|\n",
      "|New York-Newark-J...|23684| 8.51|\n",
      "|Boston-Cambridge-...|13873| 4.99|\n",
      "|Houston-The Woodl...| 9499| 3.42|\n",
      "|Charlotte-Concord...| 7780|  2.8|\n",
      "+--------------------+-----+-----+\n",
      "\n"
     ]
    },
    {
     "output_type": "stream",
     "name": "stderr",
     "text": []
    }
   ],
   "metadata": {}
  },
  {
   "cell_type": "code",
   "execution_count": 26,
   "source": [
    "# values count of 'method'\n",
    "\n",
    "header = 'method'\n",
    "df.groupBy(header).count() \\\n",
    ".withColumn('%', round((col('count')/df.count())*100,2)) \\\n",
    ".orderBy('%', ascending=False).show()"
   ],
   "outputs": [
    {
     "output_type": "stream",
     "name": "stderr",
     "text": []
    },
    {
     "output_type": "stream",
     "name": "stdout",
     "text": [
      "+------+------+-----+\n",
      "|method| count|    %|\n",
      "+------+------+-----+\n",
      "|   PUT|257818|92.69|\n",
      "|   GET| 20336| 7.31|\n",
      "+------+------+-----+\n",
      "\n"
     ]
    },
    {
     "output_type": "stream",
     "name": "stderr",
     "text": []
    }
   ],
   "metadata": {}
  },
  {
   "cell_type": "code",
   "execution_count": 27,
   "source": [
    "# unique values of 'page'\n",
    "\n",
    "header = 'page'\n",
    "print([x[header] for x in df.select(header).drop_duplicates().collect()])"
   ],
   "outputs": [
    {
     "output_type": "stream",
     "name": "stderr",
     "text": []
    },
    {
     "output_type": "stream",
     "name": "stdout",
     "text": [
      "['Cancel', 'Submit Downgrade', 'Thumbs Down', 'Home', 'Downgrade', 'Roll Advert', 'Logout', 'Save Settings', 'Cancellation Confirmation', 'About', 'Settings', 'Add to Playlist', 'Add Friend', 'NextSong', 'Thumbs Up', 'Help', 'Upgrade', 'Error', 'Submit Upgrade']\n"
     ]
    },
    {
     "output_type": "stream",
     "name": "stderr",
     "text": []
    }
   ],
   "metadata": {}
  },
  {
   "cell_type": "markdown",
   "source": [
    "# 1.3.3 Define Churn"
   ],
   "metadata": {}
  },
  {
   "cell_type": "code",
   "execution_count": 28,
   "source": [
    "# churn can be detected by the appearance of 'Cancellation Confirmation' in column 'page'"
   ],
   "outputs": [],
   "metadata": {}
  },
  {
   "cell_type": "code",
   "execution_count": 29,
   "source": [
    "# define function\n",
    "churn = udf(lambda x: 1 if 'Cancellation Confirmation' in x else 0, IntegerType())\n",
    "\n",
    "# create feature of churn\n",
    "df = df.withColumn('churned', churn('page'))"
   ],
   "outputs": [],
   "metadata": {}
  },
  {
   "cell_type": "code",
   "execution_count": 30,
   "source": [
    "# distribution of 'churned' over the no of unique users\n",
    "\n",
    "df.groupBy('userId').agg({'churned':'sum'}).select(avg('sum(churned)')).show()"
   ],
   "outputs": [
    {
     "output_type": "stream",
     "name": "stderr",
     "text": []
    },
    {
     "output_type": "stream",
     "name": "stdout",
     "text": [
      "+------------------+\n",
      "| avg(sum(churned))|\n",
      "+------------------+\n",
      "|0.2311111111111111|\n",
      "+------------------+\n",
      "\n"
     ]
    },
    {
     "output_type": "stream",
     "name": "stderr",
     "text": []
    }
   ],
   "metadata": {}
  },
  {
   "cell_type": "code",
   "execution_count": 31,
   "source": [
    "# 23.1% of users have churned"
   ],
   "outputs": [],
   "metadata": {}
  },
  {
   "cell_type": "code",
   "execution_count": 32,
   "source": [
    "# create feature of churned users\n",
    "df = df.withColumn('user_churn', max('churned').over(Window.partitionBy('UserId')))"
   ],
   "outputs": [],
   "metadata": {}
  },
  {
   "cell_type": "code",
   "execution_count": 33,
   "source": [
    "df.head(1)"
   ],
   "outputs": [
    {
     "output_type": "stream",
     "name": "stderr",
     "text": []
    },
    {
     "output_type": "execute_result",
     "data": {
      "text/plain": [
       "[Row(artist='Sleeping With Sirens', auth='Logged In', firstName='Darianna', gender='F', itemInSession=0, lastName='Carpenter', length=202.97098, level='free', location='Bridgeport-Stamford-Norwalk, CT', method='PUT', page='NextSong', registration=1538016340000, sessionId=31, song='Captain Tyin Knots VS Mr Walkway (No Way)', status=200, ts=1539003534000, userAgent='\"Mozilla/5.0 (iPhone; CPU iPhone OS 7_1_2 like Mac OS X) AppleWebKit/537.51.2 (KHTML, like Gecko) Version/7.0 Mobile/11D257 Safari/9537.53\"', userId='100010', churned=0, user_churn=0)]"
      ]
     },
     "metadata": {},
     "execution_count": 33
    }
   ],
   "metadata": {}
  },
  {
   "cell_type": "code",
   "execution_count": 34,
   "source": [
    "# convert timestamp format\n",
    "format_ts = udf(lambda x: datetime.fromtimestamp(x / 1000.0).strftime('%m-%d-%Y %H:%M:%S'))\n",
    "\n",
    "# convert 'registration' column\n",
    "df = df.withColumn('registration_datetime', format_ts('registration'))\n",
    "\n",
    "# convert 'ts' column\n",
    "df = df.withColumn('event_datetime', format_ts('ts'))"
   ],
   "outputs": [],
   "metadata": {}
  },
  {
   "cell_type": "code",
   "execution_count": 35,
   "source": [
    "# observe first item\n",
    "df.head(1)"
   ],
   "outputs": [
    {
     "output_type": "stream",
     "name": "stderr",
     "text": []
    },
    {
     "output_type": "execute_result",
     "data": {
      "text/plain": [
       "[Row(artist='Sleeping With Sirens', auth='Logged In', firstName='Darianna', gender='F', itemInSession=0, lastName='Carpenter', length=202.97098, level='free', location='Bridgeport-Stamford-Norwalk, CT', method='PUT', page='NextSong', registration=1538016340000, sessionId=31, song='Captain Tyin Knots VS Mr Walkway (No Way)', status=200, ts=1539003534000, userAgent='\"Mozilla/5.0 (iPhone; CPU iPhone OS 7_1_2 like Mac OS X) AppleWebKit/537.51.2 (KHTML, like Gecko) Version/7.0 Mobile/11D257 Safari/9537.53\"', userId='100010', churned=0, user_churn=0, registration_datetime='09-27-2018 10:45:40', event_datetime='10-08-2018 20:58:54')]"
      ]
     },
     "metadata": {},
     "execution_count": 35
    }
   ],
   "metadata": {}
  },
  {
   "cell_type": "code",
   "execution_count": 36,
   "source": [
    "# display first 10 unique userId with selected columns\n",
    "\n",
    "df.select(['userId', 'firstName', 'lastName', 'level', 'registration_datetime', 'user_churn']).drop_duplicates(['userId']).show(10)"
   ],
   "outputs": [
    {
     "output_type": "stream",
     "name": "stderr",
     "text": []
    },
    {
     "output_type": "stream",
     "name": "stdout",
     "text": [
      "+------+---------+---------+-----+---------------------+----------+\n",
      "|userId|firstName| lastName|level|registration_datetime|user_churn|\n",
      "+------+---------+---------+-----+---------------------+----------+\n",
      "|100010| Darianna|Carpenter| free|  09-27-2018 10:45:40|         0|\n",
      "|200002|  Dominic|   Torres| free|  09-07-2018 05:38:26|         0|\n",
      "|   125|    Mason|     Hart| free|  08-02-2018 04:58:59|         1|\n",
      "|   124|   Nicole|     Beck| paid|  07-22-2018 09:52:15|         0|\n",
      "|    51|    Ethan|  Johnson| paid|  09-28-2018 04:43:07|         1|\n",
      "|     7|   Maddox|  Johnson| free|  09-11-2018 20:06:16|         0|\n",
      "|    15|    Panav|    Myers| paid|  09-30-2018 00:37:25|         0|\n",
      "|    54|    Alexi|   Warren| paid|  07-25-2018 09:37:42|         1|\n",
      "|   155|   Camila| Calderon| free|  11-05-2018 06:27:50|         0|\n",
      "|100014|  Rodrigo|    Carey| paid|  08-28-2018 01:04:03|         1|\n",
      "+------+---------+---------+-----+---------------------+----------+\n",
      "only showing top 10 rows\n",
      "\n"
     ]
    }
   ],
   "metadata": {}
  },
  {
   "cell_type": "code",
   "execution_count": 37,
   "source": [
    "# (unsuccessful) save data\n",
    "# df.write.save('mini_sparkify_cleaned.json', format='json')\n",
    "\n",
    "# it was saved into a folder of 200 partition json files"
   ],
   "outputs": [],
   "metadata": {}
  },
  {
   "cell_type": "markdown",
   "source": [
    "# 1.4 Exploratory Data Analysis"
   ],
   "metadata": {}
  },
  {
   "cell_type": "code",
   "execution_count": 38,
   "source": [
    "# andy p w yu\n",
    "# 1. churn uers by gender\n",
    "# 2. paid/free customers churn \n",
    "# 3. no of songs played per session\n",
    "# 4. membership period (time since registration) [critical period to make users stay]\n",
    "# 5. no of friends \n",
    "\n",
    "## angang li\n",
    "# (X)6. paid/free churn ratio\n",
    "# 7. page event (12 boxplots!) don't need distribution\n",
    "# 8. thumbsup/down\n",
    "# 9. locations [geographically different user habits]\n",
    "\n",
    "# advertisement/ marketing/ strategy\n",
    "# 1, 2\n",
    "\n",
    "# user experience/ product research\n",
    "# 3, 4, 5, 7, 8, \n",
    "\n",
    "# clustering/ segmentation\n",
    "# 9"
   ],
   "outputs": [],
   "metadata": {}
  },
  {
   "cell_type": "markdown",
   "source": [
    "# 1.4.1 Advertisement/ Marketing"
   ],
   "metadata": {}
  },
  {
   "cell_type": "markdown",
   "source": [
    "# 1.4.1.1 Genders"
   ],
   "metadata": {}
  },
  {
   "cell_type": "code",
   "execution_count": 39,
   "source": [
    "# gender distribution\n",
    "\n",
    "df_gender_pd = df.drop_duplicates(['userId', 'gender'])\\\n",
    "    .groupby(['user_churn', 'gender']).count().sort('gender').toPandas()\n",
    "df_gender_pd"
   ],
   "outputs": [
    {
     "output_type": "stream",
     "name": "stderr",
     "text": []
    },
    {
     "output_type": "execute_result",
     "data": {
      "text/plain": [
       "   user_churn gender  count\n",
       "0           1      F     20\n",
       "1           0      F     84\n",
       "2           0      M     89\n",
       "3           1      M     32"
      ],
      "text/html": [
       "<div>\n",
       "<style scoped>\n",
       "    .dataframe tbody tr th:only-of-type {\n",
       "        vertical-align: middle;\n",
       "    }\n",
       "\n",
       "    .dataframe tbody tr th {\n",
       "        vertical-align: top;\n",
       "    }\n",
       "\n",
       "    .dataframe thead th {\n",
       "        text-align: right;\n",
       "    }\n",
       "</style>\n",
       "<table border=\"1\" class=\"dataframe\">\n",
       "  <thead>\n",
       "    <tr style=\"text-align: right;\">\n",
       "      <th></th>\n",
       "      <th>user_churn</th>\n",
       "      <th>gender</th>\n",
       "      <th>count</th>\n",
       "    </tr>\n",
       "  </thead>\n",
       "  <tbody>\n",
       "    <tr>\n",
       "      <th>0</th>\n",
       "      <td>1</td>\n",
       "      <td>F</td>\n",
       "      <td>20</td>\n",
       "    </tr>\n",
       "    <tr>\n",
       "      <th>1</th>\n",
       "      <td>0</td>\n",
       "      <td>F</td>\n",
       "      <td>84</td>\n",
       "    </tr>\n",
       "    <tr>\n",
       "      <th>2</th>\n",
       "      <td>0</td>\n",
       "      <td>M</td>\n",
       "      <td>89</td>\n",
       "    </tr>\n",
       "    <tr>\n",
       "      <th>3</th>\n",
       "      <td>1</td>\n",
       "      <td>M</td>\n",
       "      <td>32</td>\n",
       "    </tr>\n",
       "  </tbody>\n",
       "</table>\n",
       "</div>"
      ]
     },
     "metadata": {},
     "execution_count": 39
    }
   ],
   "metadata": {}
  },
  {
   "cell_type": "code",
   "execution_count": 67,
   "source": [
    "# display in bar chart\n",
    "\n",
    "sns.barplot(x = 'gender', y = 'count', data = df_gender_pd, hue = 'user_churn')\n",
    "\n",
    "plt.title('distribution among genders')\n",
    "plt.ylabel('no of users churn')\n",
    "plt.show()"
   ],
   "outputs": [
    {
     "output_type": "display_data",
     "data": {
      "text/plain": [
       "<Figure size 432x288 with 1 Axes>"
      ],
      "image/png": "[encoded data removed]"
     },
     "metadata": {
      "needs_background": "light"
     }
    }
   ],
   "metadata": {}
  },
  {
   "cell_type": "code",
   "execution_count": 41,
   "source": [
    "# Male users have a higher rate of churning than female users\n",
    "# it may indicate that female users have a higher level of customer loyalty"
   ],
   "outputs": [],
   "metadata": {}
  },
  {
   "cell_type": "markdown",
   "source": [
    "# 1.4.1.2 Levels of Subscription"
   ],
   "metadata": {}
  },
  {
   "cell_type": "code",
   "execution_count": 42,
   "source": [
    "# 2 levels of subcription (free/paid) distribution\n",
    "\n",
    "df_level_pd = df.drop_duplicates(['userId', 'level'])\\\n",
    "    .groupby(['user_churn', 'level']).count().sort('level').toPandas()\n",
    "df_level_pd"
   ],
   "outputs": [
    {
     "output_type": "stream",
     "name": "stderr",
     "text": []
    },
    {
     "output_type": "execute_result",
     "data": {
      "text/plain": [
       "   user_churn level  count\n",
       "0           0  free    149\n",
       "1           1  free     46\n",
       "2           0  paid    129\n",
       "3           1  paid     36"
      ],
      "text/html": [
       "<div>\n",
       "<style scoped>\n",
       "    .dataframe tbody tr th:only-of-type {\n",
       "        vertical-align: middle;\n",
       "    }\n",
       "\n",
       "    .dataframe tbody tr th {\n",
       "        vertical-align: top;\n",
       "    }\n",
       "\n",
       "    .dataframe thead th {\n",
       "        text-align: right;\n",
       "    }\n",
       "</style>\n",
       "<table border=\"1\" class=\"dataframe\">\n",
       "  <thead>\n",
       "    <tr style=\"text-align: right;\">\n",
       "      <th></th>\n",
       "      <th>user_churn</th>\n",
       "      <th>level</th>\n",
       "      <th>count</th>\n",
       "    </tr>\n",
       "  </thead>\n",
       "  <tbody>\n",
       "    <tr>\n",
       "      <th>0</th>\n",
       "      <td>0</td>\n",
       "      <td>free</td>\n",
       "      <td>149</td>\n",
       "    </tr>\n",
       "    <tr>\n",
       "      <th>1</th>\n",
       "      <td>1</td>\n",
       "      <td>free</td>\n",
       "      <td>46</td>\n",
       "    </tr>\n",
       "    <tr>\n",
       "      <th>2</th>\n",
       "      <td>0</td>\n",
       "      <td>paid</td>\n",
       "      <td>129</td>\n",
       "    </tr>\n",
       "    <tr>\n",
       "      <th>3</th>\n",
       "      <td>1</td>\n",
       "      <td>paid</td>\n",
       "      <td>36</td>\n",
       "    </tr>\n",
       "  </tbody>\n",
       "</table>\n",
       "</div>"
      ]
     },
     "metadata": {},
     "execution_count": 42
    }
   ],
   "metadata": {}
  },
  {
   "cell_type": "code",
   "execution_count": 66,
   "source": [
    "# display in bar chart\n",
    "\n",
    "sns.barplot(x = 'level', y = 'count', data = df_level_pd, hue = 'user_churn')\n",
    "\n",
    "plt.title('distribution among levels')\n",
    "plt.xlabel('level of subscription')\n",
    "plt.ylabel('no of users churn')\n",
    "plt.show()"
   ],
   "outputs": [
    {
     "output_type": "display_data",
     "data": {
      "text/plain": [
       "<Figure size 432x288 with 1 Axes>"
      ],
      "image/png": "[encoded data removed]"
     },
     "metadata": {
      "needs_background": "light"
     }
    }
   ],
   "metadata": {}
  },
  {
   "cell_type": "code",
   "execution_count": 44,
   "source": [
    "# paid users have a higher rate of churning than free users\n",
    "# no conclusion at this stage\n",
    "# further investigations are needed with this finding"
   ],
   "outputs": [],
   "metadata": {}
  },
  {
   "cell_type": "markdown",
   "source": [
    "# 1.4.2 User Experience/ Product Research"
   ],
   "metadata": {}
  },
  {
   "cell_type": "markdown",
   "source": [
    "# 1.4.2.1 Average Songs Count per Session"
   ],
   "metadata": {}
  },
  {
   "cell_type": "code",
   "execution_count": 60,
   "source": [
    "# average songs count per session distribution\n",
    "\n",
    "df_avgsong_pd = df.groupby(['user_churn', 'userId', 'sessionId']).count()\\\n",
    "    .groupby(['user_churn', 'userId']).agg({'count': 'avg'})\\\n",
    "        .groupby(['user_churn','userId']).agg({'avg(count)':'mean'}).toPandas()\n",
    "\n",
    "# display in boxplot\n",
    "\n",
    "sns.boxplot(data=df_avgsong_pd, y='user_churn', x='avg(avg(count))', orient='h')\n",
    "\n",
    "plt.xlabel('average song counts each session per user')\n",
    "plt.ylabel('user_churn')\n",
    "plt.yticks([0, 1], ['not churn', 'churn'])\n",
    "plt.title('distribution of average song counts')\n",
    "plt.show()"
   ],
   "outputs": [
    {
     "output_type": "stream",
     "name": "stderr",
     "text": []
    },
    {
     "output_type": "display_data",
     "data": {
      "text/plain": [
       "<Figure size 432x288 with 1 Axes>"
      ],
      "image/png": "[encoded data removed]"
     },
     "metadata": {
      "needs_background": "light"
     }
    }
   ],
   "metadata": {}
  },
  {
   "cell_type": "code",
   "execution_count": 46,
   "source": [
    "# users having higher average songs counts tend to not churn\n",
    "# however the results are not significant"
   ],
   "outputs": [],
   "metadata": {}
  },
  {
   "cell_type": "markdown",
   "source": [
    "# 1.4.2.2 Membership Period"
   ],
   "metadata": {}
  },
  {
   "cell_type": "code",
   "execution_count": 47,
   "source": [
    "# time since registration\n",
    "# create new column of date difference between the event date and the registration date\n",
    "# then select the longest oneas membership period\n",
    "\n",
    "df_membership_pd = df.select('userId', 'registration', 'ts', 'user_churn')\\\n",
    "    .withColumn('lifetime', (df.ts - df.registration))\\\n",
    "        .groupBy('userId', 'user_churn')\\\n",
    "            .agg({'lifetime': 'max'})\\\n",
    "                .withColumnRenamed('max(lifetime)', 'lifetime')\\\n",
    "                    .select('userId', 'user_churn', (col('lifetime')/1000/3600/24).alias('lifetime'))\\\n",
    "                        .toPandas()\n",
    "\n",
    "df_membership_pd.head()"
   ],
   "outputs": [
    {
     "output_type": "stream",
     "name": "stderr",
     "text": []
    },
    {
     "output_type": "execute_result",
     "data": {
      "text/plain": [
       "   userId  user_churn    lifetime\n",
       "0  100010           0   55.643657\n",
       "1  200002           0   70.074630\n",
       "2     125           1   71.316887\n",
       "3     124           0  131.555914\n",
       "4      51           1   19.455845"
      ],
      "text/html": [
       "<div>\n",
       "<style scoped>\n",
       "    .dataframe tbody tr th:only-of-type {\n",
       "        vertical-align: middle;\n",
       "    }\n",
       "\n",
       "    .dataframe tbody tr th {\n",
       "        vertical-align: top;\n",
       "    }\n",
       "\n",
       "    .dataframe thead th {\n",
       "        text-align: right;\n",
       "    }\n",
       "</style>\n",
       "<table border=\"1\" class=\"dataframe\">\n",
       "  <thead>\n",
       "    <tr style=\"text-align: right;\">\n",
       "      <th></th>\n",
       "      <th>userId</th>\n",
       "      <th>user_churn</th>\n",
       "      <th>lifetime</th>\n",
       "    </tr>\n",
       "  </thead>\n",
       "  <tbody>\n",
       "    <tr>\n",
       "      <th>0</th>\n",
       "      <td>100010</td>\n",
       "      <td>0</td>\n",
       "      <td>55.643657</td>\n",
       "    </tr>\n",
       "    <tr>\n",
       "      <th>1</th>\n",
       "      <td>200002</td>\n",
       "      <td>0</td>\n",
       "      <td>70.074630</td>\n",
       "    </tr>\n",
       "    <tr>\n",
       "      <th>2</th>\n",
       "      <td>125</td>\n",
       "      <td>1</td>\n",
       "      <td>71.316887</td>\n",
       "    </tr>\n",
       "    <tr>\n",
       "      <th>3</th>\n",
       "      <td>124</td>\n",
       "      <td>0</td>\n",
       "      <td>131.555914</td>\n",
       "    </tr>\n",
       "    <tr>\n",
       "      <th>4</th>\n",
       "      <td>51</td>\n",
       "      <td>1</td>\n",
       "      <td>19.455845</td>\n",
       "    </tr>\n",
       "  </tbody>\n",
       "</table>\n",
       "</div>"
      ]
     },
     "metadata": {},
     "execution_count": 47
    }
   ],
   "metadata": {}
  },
  {
   "cell_type": "code",
   "execution_count": 58,
   "source": [
    "# display in boxplot\n",
    "\n",
    "sns.boxplot(data=df_membership_pd, y='user_churn', x='lifetime', orient='h')\n",
    "\n",
    "plt.xlabel('days since registration')\n",
    "plt.ylabel('user_churn')\n",
    "plt.yticks([0, 1], ['not churn', 'churn'])\n",
    "plt.title('distribution of membership period')\n",
    "plt.show()"
   ],
   "outputs": [
    {
     "output_type": "display_data",
     "data": {
      "text/plain": [
       "<Figure size 432x288 with 1 Axes>"
      ],
      "image/png": "[encoded data removed]"
     },
     "metadata": {
      "needs_background": "light"
     }
    }
   ],
   "metadata": {}
  },
  {
   "cell_type": "code",
   "execution_count": 51,
   "source": [
    "# users that churned have an average of around 50 days membership period\n",
    "# which means if the first 50 days of a new user is crucial to avoiding churning"
   ],
   "outputs": [],
   "metadata": {}
  },
  {
   "cell_type": "markdown",
   "source": [
    "# 1.4.2.3 No of Friends"
   ],
   "metadata": {}
  },
  {
   "cell_type": "code",
   "execution_count": 52,
   "source": [
    "# signaled by the appearance of 'Add Friend' in 'page'\n",
    "\n",
    "df_friends_pd = df.where('page ==  \"Add Friend\"').groupby(['user_churn', 'userId']).count()\\\n",
    "    .toPandas()\n",
    "\n",
    "df_friends_pd.head()"
   ],
   "outputs": [
    {
     "output_type": "stream",
     "name": "stderr",
     "text": []
    },
    {
     "output_type": "execute_result",
     "data": {
      "text/plain": [
       "   user_churn  userId  count\n",
       "0           0  100010      4\n",
       "1           0  200002      4\n",
       "2           0     124     74\n",
       "3           1      51     28\n",
       "4           0       7      1"
      ],
      "text/html": [
       "<div>\n",
       "<style scoped>\n",
       "    .dataframe tbody tr th:only-of-type {\n",
       "        vertical-align: middle;\n",
       "    }\n",
       "\n",
       "    .dataframe tbody tr th {\n",
       "        vertical-align: top;\n",
       "    }\n",
       "\n",
       "    .dataframe thead th {\n",
       "        text-align: right;\n",
       "    }\n",
       "</style>\n",
       "<table border=\"1\" class=\"dataframe\">\n",
       "  <thead>\n",
       "    <tr style=\"text-align: right;\">\n",
       "      <th></th>\n",
       "      <th>user_churn</th>\n",
       "      <th>userId</th>\n",
       "      <th>count</th>\n",
       "    </tr>\n",
       "  </thead>\n",
       "  <tbody>\n",
       "    <tr>\n",
       "      <th>0</th>\n",
       "      <td>0</td>\n",
       "      <td>100010</td>\n",
       "      <td>4</td>\n",
       "    </tr>\n",
       "    <tr>\n",
       "      <th>1</th>\n",
       "      <td>0</td>\n",
       "      <td>200002</td>\n",
       "      <td>4</td>\n",
       "    </tr>\n",
       "    <tr>\n",
       "      <th>2</th>\n",
       "      <td>0</td>\n",
       "      <td>124</td>\n",
       "      <td>74</td>\n",
       "    </tr>\n",
       "    <tr>\n",
       "      <th>3</th>\n",
       "      <td>1</td>\n",
       "      <td>51</td>\n",
       "      <td>28</td>\n",
       "    </tr>\n",
       "    <tr>\n",
       "      <th>4</th>\n",
       "      <td>0</td>\n",
       "      <td>7</td>\n",
       "      <td>1</td>\n",
       "    </tr>\n",
       "  </tbody>\n",
       "</table>\n",
       "</div>"
      ]
     },
     "metadata": {},
     "execution_count": 52
    }
   ],
   "metadata": {}
  },
  {
   "cell_type": "code",
   "execution_count": 59,
   "source": [
    "# display in boxplot\n",
    "\n",
    "sns.boxplot(data=df_friends_pd, y='user_churn', x='count', orient='h')\n",
    "\n",
    "plt.xlabel('no of friends')\n",
    "plt.ylabel('user_churn')\n",
    "plt.yticks([0, 1], ['not churn', 'churn'])\n",
    "plt.title('distribution of no of friends')\n",
    "plt.show()"
   ],
   "outputs": [
    {
     "output_type": "display_data",
     "data": {
      "text/plain": [
       "<Figure size 432x288 with 1 Axes>"
      ],
      "image/png": "[encoded data removed]"
     },
     "metadata": {
      "needs_background": "light"
     }
    }
   ],
   "metadata": {}
  },
  {
   "cell_type": "code",
   "execution_count": 54,
   "source": [
    "# around 75% of users that churned have less than 20 friends on the platform\n",
    "# therefore no of friends can serve as one of the indicators of possible churning users\n",
    "# however the difference between users churned and not churned is not significant"
   ],
   "outputs": [],
   "metadata": {}
  },
  {
   "cell_type": "markdown",
   "source": [
    "# 1.4.2.4 Page Events"
   ],
   "metadata": {}
  },
  {
   "cell_type": "code",
   "execution_count": 39,
   "source": [
    "# create pivot table\n",
    "\n",
    "df_page_pd = df.groupby(['userId']).pivot('page').count().fillna(0).toPandas()\n",
    "df_page_pd.head()"
   ],
   "outputs": [
    {
     "output_type": "stream",
     "name": "stderr",
     "text": []
    },
    {
     "output_type": "execute_result",
     "data": {
      "text/plain": [
       "   userId  About  Add Friend  Add to Playlist  Cancel  \\\n",
       "0  200002      3           4                8       0   \n",
       "1  100010      1           4                7       0   \n",
       "2     125      0           0                0       1   \n",
       "3      51      2          28               52       1   \n",
       "4     124      7          74              118       0   \n",
       "\n",
       "   Cancellation Confirmation  Downgrade  Error  Help  Home  Logout  NextSong  \\\n",
       "0                          0          5      0     2    20       5       387   \n",
       "1                          0          0      0     2    11       5       275   \n",
       "2                          1          0      0     0     0       0         8   \n",
       "3                          1         23      1    12    75      24      2111   \n",
       "4                          0         41      6    23   176      59      4079   \n",
       "\n",
       "   Roll Advert  Save Settings  Settings  Submit Downgrade  Submit Upgrade  \\\n",
       "0            7              0         3                 0               1   \n",
       "1           52              0         0                 0               0   \n",
       "2            1              0         0                 0               0   \n",
       "3            0              1        12                 0               0   \n",
       "4            4              6        20                 0               0   \n",
       "\n",
       "   Thumbs Down  Thumbs Up  Upgrade  \n",
       "0            6         21        2  \n",
       "1            5         17        2  \n",
       "2            0          0        0  \n",
       "3           21        100        0  \n",
       "4           41        171        0  "
      ],
      "text/html": [
       "<div>\n",
       "<style scoped>\n",
       "    .dataframe tbody tr th:only-of-type {\n",
       "        vertical-align: middle;\n",
       "    }\n",
       "\n",
       "    .dataframe tbody tr th {\n",
       "        vertical-align: top;\n",
       "    }\n",
       "\n",
       "    .dataframe thead th {\n",
       "        text-align: right;\n",
       "    }\n",
       "</style>\n",
       "<table border=\"1\" class=\"dataframe\">\n",
       "  <thead>\n",
       "    <tr style=\"text-align: right;\">\n",
       "      <th></th>\n",
       "      <th>userId</th>\n",
       "      <th>About</th>\n",
       "      <th>Add Friend</th>\n",
       "      <th>Add to Playlist</th>\n",
       "      <th>Cancel</th>\n",
       "      <th>Cancellation Confirmation</th>\n",
       "      <th>Downgrade</th>\n",
       "      <th>Error</th>\n",
       "      <th>Help</th>\n",
       "      <th>Home</th>\n",
       "      <th>Logout</th>\n",
       "      <th>NextSong</th>\n",
       "      <th>Roll Advert</th>\n",
       "      <th>Save Settings</th>\n",
       "      <th>Settings</th>\n",
       "      <th>Submit Downgrade</th>\n",
       "      <th>Submit Upgrade</th>\n",
       "      <th>Thumbs Down</th>\n",
       "      <th>Thumbs Up</th>\n",
       "      <th>Upgrade</th>\n",
       "    </tr>\n",
       "  </thead>\n",
       "  <tbody>\n",
       "    <tr>\n",
       "      <th>0</th>\n",
       "      <td>200002</td>\n",
       "      <td>3</td>\n",
       "      <td>4</td>\n",
       "      <td>8</td>\n",
       "      <td>0</td>\n",
       "      <td>0</td>\n",
       "      <td>5</td>\n",
       "      <td>0</td>\n",
       "      <td>2</td>\n",
       "      <td>20</td>\n",
       "      <td>5</td>\n",
       "      <td>387</td>\n",
       "      <td>7</td>\n",
       "      <td>0</td>\n",
       "      <td>3</td>\n",
       "      <td>0</td>\n",
       "      <td>1</td>\n",
       "      <td>6</td>\n",
       "      <td>21</td>\n",
       "      <td>2</td>\n",
       "    </tr>\n",
       "    <tr>\n",
       "      <th>1</th>\n",
       "      <td>100010</td>\n",
       "      <td>1</td>\n",
       "      <td>4</td>\n",
       "      <td>7</td>\n",
       "      <td>0</td>\n",
       "      <td>0</td>\n",
       "      <td>0</td>\n",
       "      <td>0</td>\n",
       "      <td>2</td>\n",
       "      <td>11</td>\n",
       "      <td>5</td>\n",
       "      <td>275</td>\n",
       "      <td>52</td>\n",
       "      <td>0</td>\n",
       "      <td>0</td>\n",
       "      <td>0</td>\n",
       "      <td>0</td>\n",
       "      <td>5</td>\n",
       "      <td>17</td>\n",
       "      <td>2</td>\n",
       "    </tr>\n",
       "    <tr>\n",
       "      <th>2</th>\n",
       "      <td>125</td>\n",
       "      <td>0</td>\n",
       "      <td>0</td>\n",
       "      <td>0</td>\n",
       "      <td>1</td>\n",
       "      <td>1</td>\n",
       "      <td>0</td>\n",
       "      <td>0</td>\n",
       "      <td>0</td>\n",
       "      <td>0</td>\n",
       "      <td>0</td>\n",
       "      <td>8</td>\n",
       "      <td>1</td>\n",
       "      <td>0</td>\n",
       "      <td>0</td>\n",
       "      <td>0</td>\n",
       "      <td>0</td>\n",
       "      <td>0</td>\n",
       "      <td>0</td>\n",
       "      <td>0</td>\n",
       "    </tr>\n",
       "    <tr>\n",
       "      <th>3</th>\n",
       "      <td>51</td>\n",
       "      <td>2</td>\n",
       "      <td>28</td>\n",
       "      <td>52</td>\n",
       "      <td>1</td>\n",
       "      <td>1</td>\n",
       "      <td>23</td>\n",
       "      <td>1</td>\n",
       "      <td>12</td>\n",
       "      <td>75</td>\n",
       "      <td>24</td>\n",
       "      <td>2111</td>\n",
       "      <td>0</td>\n",
       "      <td>1</td>\n",
       "      <td>12</td>\n",
       "      <td>0</td>\n",
       "      <td>0</td>\n",
       "      <td>21</td>\n",
       "      <td>100</td>\n",
       "      <td>0</td>\n",
       "    </tr>\n",
       "    <tr>\n",
       "      <th>4</th>\n",
       "      <td>124</td>\n",
       "      <td>7</td>\n",
       "      <td>74</td>\n",
       "      <td>118</td>\n",
       "      <td>0</td>\n",
       "      <td>0</td>\n",
       "      <td>41</td>\n",
       "      <td>6</td>\n",
       "      <td>23</td>\n",
       "      <td>176</td>\n",
       "      <td>59</td>\n",
       "      <td>4079</td>\n",
       "      <td>4</td>\n",
       "      <td>6</td>\n",
       "      <td>20</td>\n",
       "      <td>0</td>\n",
       "      <td>0</td>\n",
       "      <td>41</td>\n",
       "      <td>171</td>\n",
       "      <td>0</td>\n",
       "    </tr>\n",
       "  </tbody>\n",
       "</table>\n",
       "</div>"
      ]
     },
     "metadata": {},
     "execution_count": 39
    }
   ],
   "metadata": {}
  },
  {
   "cell_type": "code",
   "execution_count": 40,
   "source": [
    "# assuming the appearance of 'Cancellation Confirmation' as a signal of churning\n",
    "# change the column name\n",
    "\n",
    "df_page_pd = df_page_pd.rename(columns={'Cancellation Confirmation':'Churn'})\n",
    "df_page_pd.head()"
   ],
   "outputs": [
    {
     "output_type": "execute_result",
     "data": {
      "text/plain": [
       "   userId  About  Add Friend  Add to Playlist  Cancel  Churn  Downgrade  \\\n",
       "0  200002      3           4                8       0      0          5   \n",
       "1  100010      1           4                7       0      0          0   \n",
       "2     125      0           0                0       1      1          0   \n",
       "3      51      2          28               52       1      1         23   \n",
       "4     124      7          74              118       0      0         41   \n",
       "\n",
       "   Error  Help  Home  Logout  NextSong  Roll Advert  Save Settings  Settings  \\\n",
       "0      0     2    20       5       387            7              0         3   \n",
       "1      0     2    11       5       275           52              0         0   \n",
       "2      0     0     0       0         8            1              0         0   \n",
       "3      1    12    75      24      2111            0              1        12   \n",
       "4      6    23   176      59      4079            4              6        20   \n",
       "\n",
       "   Submit Downgrade  Submit Upgrade  Thumbs Down  Thumbs Up  Upgrade  \n",
       "0                 0               1            6         21        2  \n",
       "1                 0               0            5         17        2  \n",
       "2                 0               0            0          0        0  \n",
       "3                 0               0           21        100        0  \n",
       "4                 0               0           41        171        0  "
      ],
      "text/html": [
       "<div>\n",
       "<style scoped>\n",
       "    .dataframe tbody tr th:only-of-type {\n",
       "        vertical-align: middle;\n",
       "    }\n",
       "\n",
       "    .dataframe tbody tr th {\n",
       "        vertical-align: top;\n",
       "    }\n",
       "\n",
       "    .dataframe thead th {\n",
       "        text-align: right;\n",
       "    }\n",
       "</style>\n",
       "<table border=\"1\" class=\"dataframe\">\n",
       "  <thead>\n",
       "    <tr style=\"text-align: right;\">\n",
       "      <th></th>\n",
       "      <th>userId</th>\n",
       "      <th>About</th>\n",
       "      <th>Add Friend</th>\n",
       "      <th>Add to Playlist</th>\n",
       "      <th>Cancel</th>\n",
       "      <th>Churn</th>\n",
       "      <th>Downgrade</th>\n",
       "      <th>Error</th>\n",
       "      <th>Help</th>\n",
       "      <th>Home</th>\n",
       "      <th>Logout</th>\n",
       "      <th>NextSong</th>\n",
       "      <th>Roll Advert</th>\n",
       "      <th>Save Settings</th>\n",
       "      <th>Settings</th>\n",
       "      <th>Submit Downgrade</th>\n",
       "      <th>Submit Upgrade</th>\n",
       "      <th>Thumbs Down</th>\n",
       "      <th>Thumbs Up</th>\n",
       "      <th>Upgrade</th>\n",
       "    </tr>\n",
       "  </thead>\n",
       "  <tbody>\n",
       "    <tr>\n",
       "      <th>0</th>\n",
       "      <td>200002</td>\n",
       "      <td>3</td>\n",
       "      <td>4</td>\n",
       "      <td>8</td>\n",
       "      <td>0</td>\n",
       "      <td>0</td>\n",
       "      <td>5</td>\n",
       "      <td>0</td>\n",
       "      <td>2</td>\n",
       "      <td>20</td>\n",
       "      <td>5</td>\n",
       "      <td>387</td>\n",
       "      <td>7</td>\n",
       "      <td>0</td>\n",
       "      <td>3</td>\n",
       "      <td>0</td>\n",
       "      <td>1</td>\n",
       "      <td>6</td>\n",
       "      <td>21</td>\n",
       "      <td>2</td>\n",
       "    </tr>\n",
       "    <tr>\n",
       "      <th>1</th>\n",
       "      <td>100010</td>\n",
       "      <td>1</td>\n",
       "      <td>4</td>\n",
       "      <td>7</td>\n",
       "      <td>0</td>\n",
       "      <td>0</td>\n",
       "      <td>0</td>\n",
       "      <td>0</td>\n",
       "      <td>2</td>\n",
       "      <td>11</td>\n",
       "      <td>5</td>\n",
       "      <td>275</td>\n",
       "      <td>52</td>\n",
       "      <td>0</td>\n",
       "      <td>0</td>\n",
       "      <td>0</td>\n",
       "      <td>0</td>\n",
       "      <td>5</td>\n",
       "      <td>17</td>\n",
       "      <td>2</td>\n",
       "    </tr>\n",
       "    <tr>\n",
       "      <th>2</th>\n",
       "      <td>125</td>\n",
       "      <td>0</td>\n",
       "      <td>0</td>\n",
       "      <td>0</td>\n",
       "      <td>1</td>\n",
       "      <td>1</td>\n",
       "      <td>0</td>\n",
       "      <td>0</td>\n",
       "      <td>0</td>\n",
       "      <td>0</td>\n",
       "      <td>0</td>\n",
       "      <td>8</td>\n",
       "      <td>1</td>\n",
       "      <td>0</td>\n",
       "      <td>0</td>\n",
       "      <td>0</td>\n",
       "      <td>0</td>\n",
       "      <td>0</td>\n",
       "      <td>0</td>\n",
       "      <td>0</td>\n",
       "    </tr>\n",
       "    <tr>\n",
       "      <th>3</th>\n",
       "      <td>51</td>\n",
       "      <td>2</td>\n",
       "      <td>28</td>\n",
       "      <td>52</td>\n",
       "      <td>1</td>\n",
       "      <td>1</td>\n",
       "      <td>23</td>\n",
       "      <td>1</td>\n",
       "      <td>12</td>\n",
       "      <td>75</td>\n",
       "      <td>24</td>\n",
       "      <td>2111</td>\n",
       "      <td>0</td>\n",
       "      <td>1</td>\n",
       "      <td>12</td>\n",
       "      <td>0</td>\n",
       "      <td>0</td>\n",
       "      <td>21</td>\n",
       "      <td>100</td>\n",
       "      <td>0</td>\n",
       "    </tr>\n",
       "    <tr>\n",
       "      <th>4</th>\n",
       "      <td>124</td>\n",
       "      <td>7</td>\n",
       "      <td>74</td>\n",
       "      <td>118</td>\n",
       "      <td>0</td>\n",
       "      <td>0</td>\n",
       "      <td>41</td>\n",
       "      <td>6</td>\n",
       "      <td>23</td>\n",
       "      <td>176</td>\n",
       "      <td>59</td>\n",
       "      <td>4079</td>\n",
       "      <td>4</td>\n",
       "      <td>6</td>\n",
       "      <td>20</td>\n",
       "      <td>0</td>\n",
       "      <td>0</td>\n",
       "      <td>41</td>\n",
       "      <td>171</td>\n",
       "      <td>0</td>\n",
       "    </tr>\n",
       "  </tbody>\n",
       "</table>\n",
       "</div>"
      ]
     },
     "metadata": {},
     "execution_count": 40
    }
   ],
   "metadata": {}
  },
  {
   "cell_type": "code",
   "execution_count": 45,
   "source": [
    "# present in boxplots\n",
    "\n",
    "selected_columns = [\n",
    "    'About', 'Add Friend', 'Add to Playlist', 'Downgrade',\n",
    "    'Error', 'Help', 'Home', 'Logout',\n",
    "    'NextSong', 'Roll Advert', 'Save Settings', 'Settings',\n",
    "    'Thumbs Down', 'Thumbs Up', 'Upgrade'\n",
    "]\n",
    "\n",
    "fig = plt.figure(figsize=(12,12))\n",
    "\n",
    "for i, col in enumerate(selected_columns):\n",
    "    \n",
    "    # position axis\n",
    "    ax = fig.add_subplot(4,5,i+1)\n",
    "\n",
    "    # boxplot without showing outliers\n",
    "    df_page_pd.boxplot(selected_columns, ax=ax, grid=False, by='Churn', showfliers=False)\n",
    "\n",
    "plt.show()"
   ],
   "outputs": [
    {
     "output_type": "display_data",
     "data": {
      "text/plain": [
       "<Figure size 864x864 with 16 Axes>"
      ],
      "image/png": "[encoded data removed]"
     },
     "metadata": {
      "needs_background": "light"
     }
    }
   ],
   "metadata": {}
  },
  {
   "cell_type": "code",
   "execution_count": 46,
   "source": [
    "plt.show()"
   ],
   "outputs": [],
   "metadata": {}
  },
  {
   "cell_type": "code",
   "execution_count": null,
   "source": [],
   "outputs": [],
   "metadata": {}
  },
  {
   "cell_type": "code",
   "execution_count": null,
   "source": [],
   "outputs": [],
   "metadata": {}
  },
  {
   "cell_type": "code",
   "execution_count": null,
   "source": [
    "# END"
   ],
   "outputs": [],
   "metadata": {}
  }
 ]
}