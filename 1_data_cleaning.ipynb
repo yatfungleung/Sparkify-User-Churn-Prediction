{
 "metadata": {
  "language_info": {
   "codemirror_mode": {
    "name": "ipython",
    "version": 3
   },
   "file_extension": ".py",
   "mimetype": "text/x-python",
   "name": "python",
   "nbconvert_exporter": "python",
   "pygments_lexer": "ipython3",
   "version": "3.9.5"
  },
  "orig_nbformat": 4,
  "kernelspec": {
   "name": "python3",
   "display_name": "Python 3.9.5 64-bit ('env': venv)"
  },
  "interpreter": {
   "hash": "ff8668b9c2b2d1baaf1a01ba69b056e3b7375889890260109335ff682838045a"
  }
 },
 "nbformat": 4,
 "nbformat_minor": 2,
 "cells": [
  {
   "cell_type": "markdown",
   "source": [
    "# 1.1 Imports"
   ],
   "metadata": {}
  },
  {
   "cell_type": "code",
   "execution_count": 1,
   "source": [
    "# import libraries\n",
    "\n",
    "import numpy as np\n",
    "import pandas as pd\n",
    "import seaborn as sns\n",
    "\n",
    "import matplotlib.pyplot as plt\n",
    "# %matplotlib inline\n",
    "\n",
    "from datetime import datetime\n",
    "\n",
    "from pyspark.sql import SparkSession, Window\n",
    "from pyspark import SparkFiles\n",
    "from pyspark.sql.functions import avg, col, concat, count, desc, \\\n",
    "asc, explode, lit, min, max, split, stddev, udf, isnan, when, rank, \\\n",
    "log, sqrt, cbrt, exp, round\n",
    "from pyspark.sql.functions import sum as Fsum\n",
    "from pyspark.sql.types import IntegerType\n",
    "\n",
    "from pyspark.ml import Pipeline\n",
    "from pyspark.ml.classification import LogisticRegression, \\\n",
    "LogisticRegressionModel, RandomForestClassifier, \\\n",
    "RandomForestClassificationModel, GBTClassifier, \\\n",
    "GBTClassificationModel\n",
    "from pyspark.ml.evaluation import MulticlassClassificationEvaluator\n",
    "from pyspark.mllib.evaluation import MulticlassMetrics\n",
    "\n",
    "from pyspark.ml.feature import CountVectorizer, IDF, Normalizer, \\\n",
    "PCA, RegexTokenizer, Tokenizer, StandardScaler, StopWordsRemover, \\\n",
    "StringIndexer, VectorAssembler, MaxAbsScaler\n",
    "from pyspark.ml.regression import LinearRegression\n",
    "from pyspark.ml.clustering import KMeans\n",
    "from pyspark.ml.tuning import CrossValidator, ParamGridBuilder"
   ],
   "outputs": [],
   "metadata": {}
  },
  {
   "cell_type": "code",
   "execution_count": 2,
   "source": [
    "import warnings\n",
    "warnings.filterwarnings('ignore')"
   ],
   "outputs": [],
   "metadata": {}
  },
  {
   "cell_type": "code",
   "execution_count": 3,
   "source": [
    "# create parksession\n",
    "\n",
    "spark = SparkSession.builder.master('local') \\\n",
    "        .appName('Sparkify').getOrCreate()"
   ],
   "outputs": [
    {
     "output_type": "stream",
     "name": "stderr",
     "text": [
      "21/08/16 14:32:53 WARN Utils: Your hostname, Yats-MacBook-Pro.local resolves to a loopback address: 127.0.0.1; using 10.192.135.205 instead (on interface en0)\n",
      "21/08/16 14:32:53 WARN Utils: Set SPARK_LOCAL_IP if you need to bind to another address\n",
      "WARNING: An illegal reflective access operation has occurred\n",
      "WARNING: Illegal reflective access by org.apache.spark.unsafe.Platform (file:/Users/abrahamleung/Documents/GitHub/Sparkify-User-Churn-Prediction/env/lib/python3.9/site-packages/pyspark/jars/spark-unsafe_2.12-3.1.2.jar) to constructor java.nio.DirectByteBuffer(long,int)\n",
      "WARNING: Please consider reporting this to the maintainers of org.apache.spark.unsafe.Platform\n",
      "WARNING: Use --illegal-access=warn to enable warnings of further illegal reflective access operations\n",
      "WARNING: All illegal access operations will be denied in a future release\n",
      "21/08/16 14:32:53 WARN NativeCodeLoader: Unable to load native-hadoop library for your platform... using builtin-java classes where applicable\n",
      "Using Spark's default log4j profile: org/apache/spark/log4j-defaults.properties\n",
      "Setting default log level to \"WARN\".\n",
      "To adjust logging level use sc.setLogLevel(newLevel). For SparkR, use setLogLevel(newLevel).\n"
     ]
    }
   ],
   "metadata": {}
  },
  {
   "cell_type": "code",
   "execution_count": 4,
   "source": [
    "# load data\n",
    "\n",
    "path = 'mini_sparkify_event_data.json'\n",
    "df = spark.read.json(path)\n",
    "df.head()"
   ],
   "outputs": [
    {
     "output_type": "stream",
     "name": "stderr",
     "text": []
    },
    {
     "output_type": "execute_result",
     "data": {
      "text/plain": [
       "Row(artist='Martha Tilston', auth='Logged In', firstName='Colin', gender='M', itemInSession=50, lastName='Freeman', length=277.89016, level='paid', location='Bakersfield, CA', method='PUT', page='NextSong', registration=1538173362000, sessionId=29, song='Rockpools', status=200, ts=1538352117000, userAgent='Mozilla/5.0 (Windows NT 6.1; WOW64; rv:31.0) Gecko/20100101 Firefox/31.0', userId='30')"
      ]
     },
     "metadata": {},
     "execution_count": 4
    }
   ],
   "metadata": {}
  },
  {
   "cell_type": "code",
   "execution_count": 5,
   "source": [
    "# check schema\n",
    "df.printSchema()"
   ],
   "outputs": [
    {
     "output_type": "stream",
     "name": "stdout",
     "text": [
      "root\n",
      " |-- artist: string (nullable = true)\n",
      " |-- auth: string (nullable = true)\n",
      " |-- firstName: string (nullable = true)\n",
      " |-- gender: string (nullable = true)\n",
      " |-- itemInSession: long (nullable = true)\n",
      " |-- lastName: string (nullable = true)\n",
      " |-- length: double (nullable = true)\n",
      " |-- level: string (nullable = true)\n",
      " |-- location: string (nullable = true)\n",
      " |-- method: string (nullable = true)\n",
      " |-- page: string (nullable = true)\n",
      " |-- registration: long (nullable = true)\n",
      " |-- sessionId: long (nullable = true)\n",
      " |-- song: string (nullable = true)\n",
      " |-- status: long (nullable = true)\n",
      " |-- ts: long (nullable = true)\n",
      " |-- userAgent: string (nullable = true)\n",
      " |-- userId: string (nullable = true)\n",
      "\n"
     ]
    }
   ],
   "metadata": {}
  },
  {
   "cell_type": "markdown",
   "source": [
    "# 1.2 Missing Values"
   ],
   "metadata": {}
  },
  {
   "cell_type": "markdown",
   "source": [
    "# 1.2.1 Observations"
   ],
   "metadata": {}
  },
  {
   "cell_type": "code",
   "execution_count": 6,
   "source": [
    "# total number of rows\n",
    "print(f'total number of rows: {df.count()}')"
   ],
   "outputs": [
    {
     "output_type": "stream",
     "name": "stderr",
     "text": []
    },
    {
     "output_type": "stream",
     "name": "stdout",
     "text": [
      "total number of rows: 286500\n"
     ]
    },
    {
     "output_type": "stream",
     "name": "stderr",
     "text": []
    }
   ],
   "metadata": {}
  },
  {
   "cell_type": "code",
   "execution_count": 7,
   "source": [
    "# number of missing values\n",
    "\n",
    "for c in df.columns:\n",
    "    df.select(\n",
    "        [count(when(df[c].isNull(),True))]\n",
    "    ).show()"
   ],
   "outputs": [
    {
     "output_type": "stream",
     "name": "stderr",
     "text": []
    },
    {
     "output_type": "stream",
     "name": "stdout",
     "text": [
      "+-----------------------------------------------+\n",
      "|count(CASE WHEN (artist IS NULL) THEN true END)|\n",
      "+-----------------------------------------------+\n",
      "|                                          58392|\n",
      "+-----------------------------------------------+\n",
      "\n"
     ]
    },
    {
     "output_type": "stream",
     "name": "stderr",
     "text": []
    },
    {
     "output_type": "stream",
     "name": "stdout",
     "text": [
      "+---------------------------------------------+\n",
      "|count(CASE WHEN (auth IS NULL) THEN true END)|\n",
      "+---------------------------------------------+\n",
      "|                                            0|\n",
      "+---------------------------------------------+\n",
      "\n"
     ]
    },
    {
     "output_type": "stream",
     "name": "stderr",
     "text": []
    },
    {
     "output_type": "stream",
     "name": "stdout",
     "text": [
      "+--------------------------------------------------+\n",
      "|count(CASE WHEN (firstName IS NULL) THEN true END)|\n",
      "+--------------------------------------------------+\n",
      "|                                              8346|\n",
      "+--------------------------------------------------+\n",
      "\n",
      "+-----------------------------------------------+\n",
      "|count(CASE WHEN (gender IS NULL) THEN true END)|\n",
      "+-----------------------------------------------+\n",
      "|                                           8346|\n",
      "+-----------------------------------------------+\n",
      "\n"
     ]
    },
    {
     "output_type": "stream",
     "name": "stderr",
     "text": []
    },
    {
     "output_type": "stream",
     "name": "stdout",
     "text": [
      "+------------------------------------------------------+\n",
      "|count(CASE WHEN (itemInSession IS NULL) THEN true END)|\n",
      "+------------------------------------------------------+\n",
      "|                                                     0|\n",
      "+------------------------------------------------------+\n",
      "\n"
     ]
    },
    {
     "output_type": "stream",
     "name": "stderr",
     "text": []
    },
    {
     "output_type": "stream",
     "name": "stdout",
     "text": [
      "+-------------------------------------------------+\n",
      "|count(CASE WHEN (lastName IS NULL) THEN true END)|\n",
      "+-------------------------------------------------+\n",
      "|                                             8346|\n",
      "+-------------------------------------------------+\n",
      "\n"
     ]
    },
    {
     "output_type": "stream",
     "name": "stderr",
     "text": []
    },
    {
     "output_type": "stream",
     "name": "stdout",
     "text": [
      "+-----------------------------------------------+\n",
      "|count(CASE WHEN (length IS NULL) THEN true END)|\n",
      "+-----------------------------------------------+\n",
      "|                                          58392|\n",
      "+-----------------------------------------------+\n",
      "\n",
      "+----------------------------------------------+\n",
      "|count(CASE WHEN (level IS NULL) THEN true END)|\n",
      "+----------------------------------------------+\n",
      "|                                             0|\n",
      "+----------------------------------------------+\n",
      "\n"
     ]
    },
    {
     "output_type": "stream",
     "name": "stderr",
     "text": []
    },
    {
     "output_type": "stream",
     "name": "stdout",
     "text": [
      "+-------------------------------------------------+\n",
      "|count(CASE WHEN (location IS NULL) THEN true END)|\n",
      "+-------------------------------------------------+\n",
      "|                                             8346|\n",
      "+-------------------------------------------------+\n",
      "\n"
     ]
    },
    {
     "output_type": "stream",
     "name": "stderr",
     "text": []
    },
    {
     "output_type": "stream",
     "name": "stdout",
     "text": [
      "+-----------------------------------------------+\n",
      "|count(CASE WHEN (method IS NULL) THEN true END)|\n",
      "+-----------------------------------------------+\n",
      "|                                              0|\n",
      "+-----------------------------------------------+\n",
      "\n",
      "+---------------------------------------------+\n",
      "|count(CASE WHEN (page IS NULL) THEN true END)|\n",
      "+---------------------------------------------+\n",
      "|                                            0|\n",
      "+---------------------------------------------+\n",
      "\n"
     ]
    },
    {
     "output_type": "stream",
     "name": "stderr",
     "text": []
    },
    {
     "output_type": "stream",
     "name": "stdout",
     "text": [
      "+-----------------------------------------------------+\n",
      "|count(CASE WHEN (registration IS NULL) THEN true END)|\n",
      "+-----------------------------------------------------+\n",
      "|                                                 8346|\n",
      "+-----------------------------------------------------+\n",
      "\n"
     ]
    },
    {
     "output_type": "stream",
     "name": "stderr",
     "text": []
    },
    {
     "output_type": "stream",
     "name": "stdout",
     "text": [
      "+--------------------------------------------------+\n",
      "|count(CASE WHEN (sessionId IS NULL) THEN true END)|\n",
      "+--------------------------------------------------+\n",
      "|                                                 0|\n",
      "+--------------------------------------------------+\n",
      "\n"
     ]
    },
    {
     "output_type": "stream",
     "name": "stderr",
     "text": []
    },
    {
     "output_type": "stream",
     "name": "stdout",
     "text": [
      "+---------------------------------------------+\n",
      "|count(CASE WHEN (song IS NULL) THEN true END)|\n",
      "+---------------------------------------------+\n",
      "|                                        58392|\n",
      "+---------------------------------------------+\n",
      "\n"
     ]
    },
    {
     "output_type": "stream",
     "name": "stderr",
     "text": []
    },
    {
     "output_type": "stream",
     "name": "stdout",
     "text": [
      "+-----------------------------------------------+\n",
      "|count(CASE WHEN (status IS NULL) THEN true END)|\n",
      "+-----------------------------------------------+\n",
      "|                                              0|\n",
      "+-----------------------------------------------+\n",
      "\n"
     ]
    },
    {
     "output_type": "stream",
     "name": "stderr",
     "text": []
    },
    {
     "output_type": "stream",
     "name": "stdout",
     "text": [
      "+-------------------------------------------+\n",
      "|count(CASE WHEN (ts IS NULL) THEN true END)|\n",
      "+-------------------------------------------+\n",
      "|                                          0|\n",
      "+-------------------------------------------+\n",
      "\n"
     ]
    },
    {
     "output_type": "stream",
     "name": "stderr",
     "text": []
    },
    {
     "output_type": "stream",
     "name": "stdout",
     "text": [
      "+--------------------------------------------------+\n",
      "|count(CASE WHEN (userAgent IS NULL) THEN true END)|\n",
      "+--------------------------------------------------+\n",
      "|                                              8346|\n",
      "+--------------------------------------------------+\n",
      "\n",
      "+-----------------------------------------------+\n",
      "|count(CASE WHEN (userId IS NULL) THEN true END)|\n",
      "+-----------------------------------------------+\n",
      "|                                              0|\n",
      "+-----------------------------------------------+\n",
      "\n"
     ]
    },
    {
     "output_type": "stream",
     "name": "stderr",
     "text": []
    }
   ],
   "metadata": {}
  },
  {
   "cell_type": "markdown",
   "source": [
    "# 1.2.2 Missing Values in userId"
   ],
   "metadata": {}
  },
  {
   "cell_type": "code",
   "execution_count": 8,
   "source": [
    "# from above findings, 0 rows in userId is NULL\n",
    "# so we check for samples\n",
    "\n",
    "df.select(['userId']).drop_duplicates().orderBy(df['userId']).show(10)"
   ],
   "outputs": [
    {
     "output_type": "stream",
     "name": "stderr",
     "text": []
    },
    {
     "output_type": "stream",
     "name": "stdout",
     "text": [
      "+------+\n",
      "|userId|\n",
      "+------+\n",
      "|      |\n",
      "|    10|\n",
      "|   100|\n",
      "|100001|\n",
      "|100002|\n",
      "|100003|\n",
      "|100004|\n",
      "|100005|\n",
      "|100006|\n",
      "|100007|\n",
      "+------+\n",
      "only showing top 10 rows\n",
      "\n"
     ]
    },
    {
     "output_type": "stream",
     "name": "stderr",
     "text": []
    }
   ],
   "metadata": {}
  },
  {
   "cell_type": "code",
   "execution_count": 9,
   "source": [
    "# the first row is an empty string"
   ],
   "outputs": [],
   "metadata": {}
  },
  {
   "cell_type": "code",
   "execution_count": 10,
   "source": [
    "# create a temporary view for running SQL queries\n",
    "df.createOrReplaceTempView('df_table')"
   ],
   "outputs": [],
   "metadata": {}
  },
  {
   "cell_type": "code",
   "execution_count": 11,
   "source": [
    "# display the page events of the user with empty string userId\n",
    "\n",
    "spark.sql(\n",
    "    '''\n",
    "    SELECT DISTINCT page\n",
    "    FROM df_table\n",
    "    WHERE userId == ''\n",
    "    '''\n",
    ").show()"
   ],
   "outputs": [
    {
     "output_type": "stream",
     "name": "stderr",
     "text": []
    },
    {
     "output_type": "stream",
     "name": "stdout",
     "text": [
      "+-------------------+\n",
      "|               page|\n",
      "+-------------------+\n",
      "|               Home|\n",
      "|              About|\n",
      "|Submit Registration|\n",
      "|              Login|\n",
      "|           Register|\n",
      "|               Help|\n",
      "|              Error|\n",
      "+-------------------+\n",
      "\n"
     ]
    }
   ],
   "metadata": {}
  },
  {
   "cell_type": "code",
   "execution_count": 12,
   "source": [
    "# display the page events of another user with non-empty string userId\n",
    "\n",
    "spark.sql(\n",
    "    '''\n",
    "    SELECT DISTINCT page\n",
    "    FROM df_table\n",
    "    WHERE userId == 100001\n",
    "    '''\n",
    ").show()"
   ],
   "outputs": [
    {
     "output_type": "stream",
     "name": "stderr",
     "text": []
    },
    {
     "output_type": "stream",
     "name": "stdout",
     "text": [
      "+--------------------+\n",
      "|                page|\n",
      "+--------------------+\n",
      "|              Cancel|\n",
      "|         Thumbs Down|\n",
      "|                Home|\n",
      "|         Roll Advert|\n",
      "|              Logout|\n",
      "|Cancellation Conf...|\n",
      "|            Settings|\n",
      "|     Add to Playlist|\n",
      "|          Add Friend|\n",
      "|            NextSong|\n",
      "|           Thumbs Up|\n",
      "|                Help|\n",
      "|             Upgrade|\n",
      "|               Error|\n",
      "+--------------------+\n",
      "\n"
     ]
    }
   ],
   "metadata": {}
  },
  {
   "cell_type": "code",
   "execution_count": 13,
   "source": [
    "# we can see that \n",
    "# the page events of empty string userId user has nearly no features page except\n",
    "# 'Submit Registration' which might indicate that it is a user with incomplete registration"
   ],
   "outputs": [],
   "metadata": {}
  },
  {
   "cell_type": "code",
   "execution_count": 14,
   "source": [
    "# drop the row with empty userId\n",
    "df = df.filter(df['userId'] != '')"
   ],
   "outputs": [],
   "metadata": {}
  },
  {
   "cell_type": "markdown",
   "source": [
    "# 1.3 Feature Engineering"
   ],
   "metadata": {}
  },
  {
   "cell_type": "markdown",
   "source": [
    "# 1.3.1 Overview of Numerical Features"
   ],
   "metadata": {}
  },
  {
   "cell_type": "code",
   "execution_count": 15,
   "source": [
    "# number of unique users\n",
    "\n",
    "unique_users = df.select('userId').drop_duplicates().count()\n",
    "print(unique_users)"
   ],
   "outputs": [
    {
     "output_type": "stream",
     "name": "stderr",
     "text": []
    },
    {
     "output_type": "stream",
     "name": "stdout",
     "text": [
      "225\n"
     ]
    },
    {
     "output_type": "stream",
     "name": "stderr",
     "text": []
    }
   ],
   "metadata": {}
  },
  {
   "cell_type": "code",
   "execution_count": 16,
   "source": [
    "# numerical columns\n",
    "num_cols = ['itemInSession', 'registration', 'status', 'ts', 'length']"
   ],
   "outputs": [],
   "metadata": {}
  },
  {
   "cell_type": "code",
   "execution_count": 17,
   "source": [
    "# describe numerical columns\n",
    "df.select(num_cols).describe().show()"
   ],
   "outputs": [
    {
     "output_type": "stream",
     "name": "stderr",
     "text": []
    },
    {
     "output_type": "stream",
     "name": "stdout",
     "text": [
      "+-------+------------------+--------------------+------------------+--------------------+-----------------+\n",
      "|summary|     itemInSession|        registration|            status|                  ts|           length|\n",
      "+-------+------------------+--------------------+------------------+--------------------+-----------------+\n",
      "|  count|            278154|              278154|            278154|              278154|           228108|\n",
      "|   mean|114.89918174824018|1.535358834084427...|209.10321620397335|1.540958915431871...|249.1171819778458|\n",
      "| stddev|  129.851729399489| 3.291321616327586E9|30.151388851328214|1.5068287123306298E9|99.23517921058361|\n",
      "|    min|                 0|       1521380675000|               200|       1538352117000|          0.78322|\n",
      "|    max|              1321|       1543247354000|               404|       1543799476000|       3024.66567|\n",
      "+-------+------------------+--------------------+------------------+--------------------+-----------------+\n",
      "\n"
     ]
    },
    {
     "output_type": "stream",
     "name": "stderr",
     "text": []
    }
   ],
   "metadata": {}
  },
  {
   "cell_type": "code",
   "execution_count": 18,
   "source": [
    "# 'status' is HTTP status\n",
    "\n",
    "header = 'status'\n",
    "df.groupBy(header).count() \\\n",
    ".withColumn('%', round((col('count')/df.count())*100,2)) \\\n",
    ".orderBy('%', ascending=False).show()"
   ],
   "outputs": [
    {
     "output_type": "stream",
     "name": "stderr",
     "text": []
    },
    {
     "output_type": "stream",
     "name": "stdout",
     "text": [
      "+------+------+-----+\n",
      "|status| count|    %|\n",
      "+------+------+-----+\n",
      "|   200|254718|91.57|\n",
      "|   307| 23184| 8.33|\n",
      "|   404|   252| 0.09|\n",
      "+------+------+-----+\n",
      "\n"
     ]
    },
    {
     "output_type": "stream",
     "name": "stderr",
     "text": []
    }
   ],
   "metadata": {}
  },
  {
   "cell_type": "code",
   "execution_count": 19,
   "source": [
    "# 'status' should be classified as categorical feature"
   ],
   "outputs": [],
   "metadata": {}
  },
  {
   "cell_type": "markdown",
   "source": [
    "# 1.3.2 Overview of Categorical Features"
   ],
   "metadata": {}
  },
  {
   "cell_type": "code",
   "execution_count": 20,
   "source": [
    "# catagorical columns\n",
    "cat_cols = [\n",
    "    'artist', 'auth', 'firstName', 'lastName', \n",
    "    'gender', 'level', 'location','method', \n",
    "    'page', 'song', 'userAgent'\n",
    "]"
   ],
   "outputs": [],
   "metadata": {}
  },
  {
   "cell_type": "code",
   "execution_count": 21,
   "source": [
    "# we only observe the features that can be classified"
   ],
   "outputs": [],
   "metadata": {}
  },
  {
   "cell_type": "code",
   "execution_count": 22,
   "source": [
    "# values count of 'auth'\n",
    "\n",
    "header = 'auth'\n",
    "df.groupBy(header).count() \\\n",
    ".withColumn('%', round((col('count')/df.count())*100,2)) \\\n",
    ".orderBy('%', ascending=False).show()"
   ],
   "outputs": [
    {
     "output_type": "stream",
     "name": "stderr",
     "text": []
    },
    {
     "output_type": "stream",
     "name": "stdout",
     "text": [
      "+---------+------+-----+\n",
      "|     auth| count|    %|\n",
      "+---------+------+-----+\n",
      "|Logged In|278102|99.98|\n",
      "|Cancelled|    52| 0.02|\n",
      "+---------+------+-----+\n",
      "\n"
     ]
    },
    {
     "output_type": "stream",
     "name": "stderr",
     "text": []
    }
   ],
   "metadata": {
    "tags": []
   }
  },
  {
   "cell_type": "code",
   "execution_count": 23,
   "source": [
    "# values count of 'gender'\n",
    "\n",
    "header = 'gender'\n",
    "df.groupBy(header).count() \\\n",
    ".withColumn('%', round((col('count')/df.count())*100,2)) \\\n",
    ".orderBy('%', ascending=False).show()"
   ],
   "outputs": [
    {
     "output_type": "stream",
     "name": "stderr",
     "text": []
    },
    {
     "output_type": "stream",
     "name": "stdout",
     "text": [
      "+------+------+-----+\n",
      "|gender| count|    %|\n",
      "+------+------+-----+\n",
      "|     F|154578|55.57|\n",
      "|     M|123576|44.43|\n",
      "+------+------+-----+\n",
      "\n"
     ]
    },
    {
     "output_type": "stream",
     "name": "stderr",
     "text": []
    }
   ],
   "metadata": {}
  },
  {
   "cell_type": "code",
   "execution_count": 24,
   "source": [
    "# values count of 'level'\n",
    "\n",
    "header = 'level'\n",
    "df.groupBy(header).count() \\\n",
    ".withColumn('%', round((col('count')/df.count())*100,2)) \\\n",
    ".orderBy('%', ascending=False).show()"
   ],
   "outputs": [
    {
     "output_type": "stream",
     "name": "stderr",
     "text": []
    },
    {
     "output_type": "stream",
     "name": "stdout",
     "text": [
      "+-----+------+-----+\n",
      "|level| count|    %|\n",
      "+-----+------+-----+\n",
      "| paid|222433|79.97|\n",
      "| free| 55721|20.03|\n",
      "+-----+------+-----+\n",
      "\n"
     ]
    },
    {
     "output_type": "stream",
     "name": "stderr",
     "text": []
    }
   ],
   "metadata": {}
  },
  {
   "cell_type": "code",
   "execution_count": 25,
   "source": [
    "# first 5 values count of 'location'\n",
    "\n",
    "header = 'location'\n",
    "df.groupBy(header).count() \\\n",
    ".withColumn('%', round((col('count')/df.count())*100,2)) \\\n",
    ".orderBy('%', ascending=False).limit(5).show()"
   ],
   "outputs": [
    {
     "output_type": "stream",
     "name": "stderr",
     "text": []
    },
    {
     "output_type": "stream",
     "name": "stdout",
     "text": [
      "+--------------------+-----+-----+\n",
      "|            location|count|    %|\n",
      "+--------------------+-----+-----+\n",
      "|Los Angeles-Long ...|30131|10.83|\n",
      "|New York-Newark-J...|23684| 8.51|\n",
      "|Boston-Cambridge-...|13873| 4.99|\n",
      "|Houston-The Woodl...| 9499| 3.42|\n",
      "|Charlotte-Concord...| 7780|  2.8|\n",
      "+--------------------+-----+-----+\n",
      "\n"
     ]
    },
    {
     "output_type": "stream",
     "name": "stderr",
     "text": []
    }
   ],
   "metadata": {}
  },
  {
   "cell_type": "code",
   "execution_count": 26,
   "source": [
    "# values count of 'method'\n",
    "\n",
    "header = 'method'\n",
    "df.groupBy(header).count() \\\n",
    ".withColumn('%', round((col('count')/df.count())*100,2)) \\\n",
    ".orderBy('%', ascending=False).show()"
   ],
   "outputs": [
    {
     "output_type": "stream",
     "name": "stderr",
     "text": []
    },
    {
     "output_type": "stream",
     "name": "stdout",
     "text": [
      "+------+------+-----+\n",
      "|method| count|    %|\n",
      "+------+------+-----+\n",
      "|   PUT|257818|92.69|\n",
      "|   GET| 20336| 7.31|\n",
      "+------+------+-----+\n",
      "\n"
     ]
    },
    {
     "output_type": "stream",
     "name": "stderr",
     "text": []
    }
   ],
   "metadata": {}
  },
  {
   "cell_type": "code",
   "execution_count": 27,
   "source": [
    "# unique values of 'page'\n",
    "\n",
    "header = 'page'\n",
    "print([x[header] for x in df.select(header).drop_duplicates().collect()])"
   ],
   "outputs": [
    {
     "output_type": "stream",
     "name": "stderr",
     "text": []
    },
    {
     "output_type": "stream",
     "name": "stdout",
     "text": [
      "['Cancel', 'Submit Downgrade', 'Thumbs Down', 'Home', 'Downgrade', 'Roll Advert', 'Logout', 'Save Settings', 'Cancellation Confirmation', 'About', 'Settings', 'Add to Playlist', 'Add Friend', 'NextSong', 'Thumbs Up', 'Help', 'Upgrade', 'Error', 'Submit Upgrade']\n"
     ]
    },
    {
     "output_type": "stream",
     "name": "stderr",
     "text": []
    }
   ],
   "metadata": {}
  },
  {
   "cell_type": "markdown",
   "source": [
    "# 1.3.3 Define Churn"
   ],
   "metadata": {}
  },
  {
   "cell_type": "code",
   "execution_count": 28,
   "source": [
    "# churn can be detected by the appearance of 'Cancellation Confirmation' in column 'page'"
   ],
   "outputs": [],
   "metadata": {}
  },
  {
   "cell_type": "code",
   "execution_count": 29,
   "source": [
    "# define function\n",
    "churn = udf(lambda x: 1 if 'Cancellation Confirmation' in x else 0, IntegerType())\n",
    "\n",
    "# create feature of churn\n",
    "df = df.withColumn('churned', churn('page'))"
   ],
   "outputs": [],
   "metadata": {}
  },
  {
   "cell_type": "code",
   "execution_count": 30,
   "source": [
    "# distribution of 'churned' over the no of unique users\n",
    "\n",
    "df.groupBy('userId').agg({'churned':'sum'}).select(avg('sum(churned)')).show()"
   ],
   "outputs": [
    {
     "output_type": "stream",
     "name": "stderr",
     "text": []
    },
    {
     "output_type": "stream",
     "name": "stdout",
     "text": [
      "+------------------+\n",
      "| avg(sum(churned))|\n",
      "+------------------+\n",
      "|0.2311111111111111|\n",
      "+------------------+\n",
      "\n"
     ]
    },
    {
     "output_type": "stream",
     "name": "stderr",
     "text": []
    }
   ],
   "metadata": {}
  },
  {
   "cell_type": "code",
   "execution_count": 31,
   "source": [
    "# 23.1% of users have churned"
   ],
   "outputs": [],
   "metadata": {}
  },
  {
   "cell_type": "code",
   "execution_count": 32,
   "source": [
    "# create feature of churned users\n",
    "df = df.withColumn('user_churn', max('churned').over(Window.partitionBy('UserId')))"
   ],
   "outputs": [],
   "metadata": {}
  },
  {
   "cell_type": "code",
   "execution_count": 33,
   "source": [
    "df.head(1)"
   ],
   "outputs": [
    {
     "output_type": "stream",
     "name": "stderr",
     "text": []
    },
    {
     "output_type": "execute_result",
     "data": {
      "text/plain": [
       "[Row(artist='Sleeping With Sirens', auth='Logged In', firstName='Darianna', gender='F', itemInSession=0, lastName='Carpenter', length=202.97098, level='free', location='Bridgeport-Stamford-Norwalk, CT', method='PUT', page='NextSong', registration=1538016340000, sessionId=31, song='Captain Tyin Knots VS Mr Walkway (No Way)', status=200, ts=1539003534000, userAgent='\"Mozilla/5.0 (iPhone; CPU iPhone OS 7_1_2 like Mac OS X) AppleWebKit/537.51.2 (KHTML, like Gecko) Version/7.0 Mobile/11D257 Safari/9537.53\"', userId='100010', churned=0, user_churn=0)]"
      ]
     },
     "metadata": {},
     "execution_count": 33
    }
   ],
   "metadata": {}
  },
  {
   "cell_type": "code",
   "execution_count": 34,
   "source": [
    "# convert timestamp format\n",
    "format_ts = udf(lambda x: datetime.fromtimestamp(x / 1000.0).strftime('%m-%d-%Y %H:%M:%S'))\n",
    "\n",
    "# convert 'registration' column\n",
    "df = df.withColumn('registration_datetime', format_ts('registration'))\n",
    "\n",
    "# convert 'ts' column\n",
    "df = df.withColumn('event_datetime', format_ts('ts'))"
   ],
   "outputs": [],
   "metadata": {}
  },
  {
   "cell_type": "code",
   "execution_count": 35,
   "source": [
    "# observe first item\n",
    "df.head(1)"
   ],
   "outputs": [
    {
     "output_type": "stream",
     "name": "stderr",
     "text": []
    },
    {
     "output_type": "execute_result",
     "data": {
      "text/plain": [
       "[Row(artist='Sleeping With Sirens', auth='Logged In', firstName='Darianna', gender='F', itemInSession=0, lastName='Carpenter', length=202.97098, level='free', location='Bridgeport-Stamford-Norwalk, CT', method='PUT', page='NextSong', registration=1538016340000, sessionId=31, song='Captain Tyin Knots VS Mr Walkway (No Way)', status=200, ts=1539003534000, userAgent='\"Mozilla/5.0 (iPhone; CPU iPhone OS 7_1_2 like Mac OS X) AppleWebKit/537.51.2 (KHTML, like Gecko) Version/7.0 Mobile/11D257 Safari/9537.53\"', userId='100010', churned=0, user_churn=0, registration_datetime='09-27-2018 10:45:40', event_datetime='10-08-2018 20:58:54')]"
      ]
     },
     "metadata": {},
     "execution_count": 35
    }
   ],
   "metadata": {}
  },
  {
   "cell_type": "code",
   "execution_count": 36,
   "source": [
    "# display first 10 unique userId with selected columns\n",
    "\n",
    "df.select(['userId', 'firstName', 'lastName', 'level', 'registration_datetime', 'user_churn']).drop_duplicates(['userId']).show(10)"
   ],
   "outputs": [
    {
     "output_type": "stream",
     "name": "stderr",
     "text": []
    },
    {
     "output_type": "stream",
     "name": "stdout",
     "text": [
      "+------+---------+---------+-----+---------------------+----------+\n",
      "|userId|firstName| lastName|level|registration_datetime|user_churn|\n",
      "+------+---------+---------+-----+---------------------+----------+\n",
      "|100010| Darianna|Carpenter| free|  09-27-2018 10:45:40|         0|\n",
      "|200002|  Dominic|   Torres| free|  09-07-2018 05:38:26|         0|\n",
      "|   125|    Mason|     Hart| free|  08-02-2018 04:58:59|         1|\n",
      "|   124|   Nicole|     Beck| paid|  07-22-2018 09:52:15|         0|\n",
      "|    51|    Ethan|  Johnson| paid|  09-28-2018 04:43:07|         1|\n",
      "|     7|   Maddox|  Johnson| free|  09-11-2018 20:06:16|         0|\n",
      "|    15|    Panav|    Myers| paid|  09-30-2018 00:37:25|         0|\n",
      "|    54|    Alexi|   Warren| paid|  07-25-2018 09:37:42|         1|\n",
      "|   155|   Camila| Calderon| free|  11-05-2018 06:27:50|         0|\n",
      "|100014|  Rodrigo|    Carey| paid|  08-28-2018 01:04:03|         1|\n",
      "+------+---------+---------+-----+---------------------+----------+\n",
      "only showing top 10 rows\n",
      "\n"
     ]
    },
    {
     "output_type": "stream",
     "name": "stderr",
     "text": []
    }
   ],
   "metadata": {}
  },
  {
   "cell_type": "code",
   "execution_count": 37,
   "source": [
    "# (unsuccessful) save data\n",
    "# df.write.save('mini_sparkify_cleaned.json', format='json')\n",
    "\n",
    "# it was saved into a folder of 200 partition json files"
   ],
   "outputs": [],
   "metadata": {}
  },
  {
   "cell_type": "markdown",
   "source": [
    "# 1.4 Exploratory Data Analysis"
   ],
   "metadata": {}
  },
  {
   "cell_type": "code",
   "execution_count": 38,
   "source": [
    "# andy p w yu\n",
    "# 1. churn uers by gender\n",
    "# 2. paid/free customers churn \n",
    "# 3. no of songs played per session\n",
    "# 4. membership period (time since registration) [critical period to make users stay]\n",
    "# 5. no of friends \n",
    "\n",
    "## angang li\n",
    "# (X)6. paid/free churn ratio\n",
    "# 7. page event (12 boxplots!) don't need distribution\n",
    "# 8. thumbsup/down\n",
    "# 9. locations [geographically different user habits]\n",
    "\n",
    "# advertisement/ marketing/ strategy\n",
    "# 1, 2\n",
    "\n",
    "# user experience/ product research\n",
    "# 3, 4, 5, 7, 8, \n",
    "\n",
    "# clustering/ segmentation\n",
    "# 9"
   ],
   "outputs": [],
   "metadata": {}
  },
  {
   "cell_type": "markdown",
   "source": [
    "# 1.4.1 Advertisement/ Marketing"
   ],
   "metadata": {}
  },
  {
   "cell_type": "markdown",
   "source": [
    "# 1.4.1.1 Genders"
   ],
   "metadata": {}
  },
  {
   "cell_type": "code",
   "execution_count": 39,
   "source": [
    "# gender distribution\n",
    "\n",
    "df_gender_pd = df.drop_duplicates(['userId', 'gender'])\\\n",
    "    .groupby(['user_churn', 'gender']).count().sort('gender').toPandas()\n",
    "df_gender_pd"
   ],
   "outputs": [
    {
     "output_type": "stream",
     "name": "stderr",
     "text": []
    },
    {
     "output_type": "execute_result",
     "data": {
      "text/plain": [
       "   user_churn gender  count\n",
       "0           1      F     20\n",
       "1           0      F     84\n",
       "2           0      M     89\n",
       "3           1      M     32"
      ],
      "text/html": [
       "<div>\n",
       "<style scoped>\n",
       "    .dataframe tbody tr th:only-of-type {\n",
       "        vertical-align: middle;\n",
       "    }\n",
       "\n",
       "    .dataframe tbody tr th {\n",
       "        vertical-align: top;\n",
       "    }\n",
       "\n",
       "    .dataframe thead th {\n",
       "        text-align: right;\n",
       "    }\n",
       "</style>\n",
       "<table border=\"1\" class=\"dataframe\">\n",
       "  <thead>\n",
       "    <tr style=\"text-align: right;\">\n",
       "      <th></th>\n",
       "      <th>user_churn</th>\n",
       "      <th>gender</th>\n",
       "      <th>count</th>\n",
       "    </tr>\n",
       "  </thead>\n",
       "  <tbody>\n",
       "    <tr>\n",
       "      <th>0</th>\n",
       "      <td>1</td>\n",
       "      <td>F</td>\n",
       "      <td>20</td>\n",
       "    </tr>\n",
       "    <tr>\n",
       "      <th>1</th>\n",
       "      <td>0</td>\n",
       "      <td>F</td>\n",
       "      <td>84</td>\n",
       "    </tr>\n",
       "    <tr>\n",
       "      <th>2</th>\n",
       "      <td>0</td>\n",
       "      <td>M</td>\n",
       "      <td>89</td>\n",
       "    </tr>\n",
       "    <tr>\n",
       "      <th>3</th>\n",
       "      <td>1</td>\n",
       "      <td>M</td>\n",
       "      <td>32</td>\n",
       "    </tr>\n",
       "  </tbody>\n",
       "</table>\n",
       "</div>"
      ]
     },
     "metadata": {},
     "execution_count": 39
    }
   ],
   "metadata": {}
  },
  {
   "cell_type": "code",
   "execution_count": 67,
   "source": [
    "# display in bar chart\n",
    "\n",
    "sns.barplot(x = 'gender', y = 'count', data = df_gender_pd, hue = 'user_churn')\n",
    "\n",
    "plt.title('distribution among genders')\n",
    "plt.ylabel('no of users churn')\n",
    "plt.show()"
   ],
   "outputs": [
    {
     "output_type": "display_data",
     "data": {
      "text/plain": [
       "<Figure size 432x288 with 1 Axes>"
      ],
      "image/png": "[encoded data removed]"
     },
     "metadata": {
      "needs_background": "light"
     }
    }
   ],
   "metadata": {}
  },
  {
   "cell_type": "code",
   "execution_count": 41,
   "source": [
    "# Male users have a higher rate of churning than female users\n",
    "# it may indicate that female users have a higher level of customer loyalty"
   ],
   "outputs": [],
   "metadata": {}
  },
  {
   "cell_type": "markdown",
   "source": [
    "# 1.4.1.2 Levels of Subscription"
   ],
   "metadata": {}
  },
  {
   "cell_type": "code",
   "execution_count": 42,
   "source": [
    "# 2 levels of subcription (free/paid) distribution\n",
    "\n",
    "df_level_pd = df.drop_duplicates(['userId', 'level'])\\\n",
    "    .groupby(['user_churn', 'level']).count().sort('level').toPandas()\n",
    "df_level_pd"
   ],
   "outputs": [
    {
     "output_type": "stream",
     "name": "stderr",
     "text": []
    },
    {
     "output_type": "execute_result",
     "data": {
      "text/plain": [
       "   user_churn level  count\n",
       "0           0  free    149\n",
       "1           1  free     46\n",
       "2           0  paid    129\n",
       "3           1  paid     36"
      ],
      "text/html": [
       "<div>\n",
       "<style scoped>\n",
       "    .dataframe tbody tr th:only-of-type {\n",
       "        vertical-align: middle;\n",
       "    }\n",
       "\n",
       "    .dataframe tbody tr th {\n",
       "        vertical-align: top;\n",
       "    }\n",
       "\n",
       "    .dataframe thead th {\n",
       "        text-align: right;\n",
       "    }\n",
       "</style>\n",
       "<table border=\"1\" class=\"dataframe\">\n",
       "  <thead>\n",
       "    <tr style=\"text-align: right;\">\n",
       "      <th></th>\n",
       "      <th>user_churn</th>\n",
       "      <th>level</th>\n",
       "      <th>count</th>\n",
       "    </tr>\n",
       "  </thead>\n",
       "  <tbody>\n",
       "    <tr>\n",
       "      <th>0</th>\n",
       "      <td>0</td>\n",
       "      <td>free</td>\n",
       "      <td>149</td>\n",
       "    </tr>\n",
       "    <tr>\n",
       "      <th>1</th>\n",
       "      <td>1</td>\n",
       "      <td>free</td>\n",
       "      <td>46</td>\n",
       "    </tr>\n",
       "    <tr>\n",
       "      <th>2</th>\n",
       "      <td>0</td>\n",
       "      <td>paid</td>\n",
       "      <td>129</td>\n",
       "    </tr>\n",
       "    <tr>\n",
       "      <th>3</th>\n",
       "      <td>1</td>\n",
       "      <td>paid</td>\n",
       "      <td>36</td>\n",
       "    </tr>\n",
       "  </tbody>\n",
       "</table>\n",
       "</div>"
      ]
     },
     "metadata": {},
     "execution_count": 42
    }
   ],
   "metadata": {}
  },
  {
   "cell_type": "code",
   "execution_count": 66,
   "source": [
    "# display in bar chart\n",
    "\n",
    "sns.barplot(x = 'level', y = 'count', data = df_level_pd, hue = 'user_churn')\n",
    "\n",
    "plt.title('distribution among levels')\n",
    "plt.xlabel('level of subscription')\n",
    "plt.ylabel('no of users churn')\n",
    "plt.show()"
   ],
   "outputs": [
    {
     "output_type": "display_data",
     "data": {
      "text/plain": [
       "<Figure size 432x288 with 1 Axes>"
      ],
      "image/png": "[encoded data removed]"
     },
     "metadata": {
      "needs_background": "light"
     }
    }
   ],
   "metadata": {}
  },
  {
   "cell_type": "code",
   "execution_count": 44,
   "source": [
    "# paid users have a higher rate of churning than free users\n",
    "# no conclusion at this stage\n",
    "# further investigations are needed with this finding"
   ],
   "outputs": [],
   "metadata": {}
  },
  {
   "cell_type": "markdown",
   "source": [
    "# 1.4.2 User Experience/ Product Research"
   ],
   "metadata": {}
  },
  {
   "cell_type": "markdown",
   "source": [
    "# 1.4.2.1 Average Songs Count per Session"
   ],
   "metadata": {}
  },
  {
   "cell_type": "code",
   "execution_count": 60,
   "source": [
    "# average songs count per session distribution\n",
    "\n",
    "df_avgsong_pd = df.groupby(['user_churn', 'userId', 'sessionId']).count()\\\n",
    "    .groupby(['user_churn', 'userId']).agg({'count': 'avg'})\\\n",
    "        .groupby(['user_churn','userId']).agg({'avg(count)':'mean'}).toPandas()\n",
    "\n",
    "# display in boxplot\n",
    "\n",
    "sns.boxplot(data=df_avgsong_pd, y='user_churn', x='avg(avg(count))', orient='h')\n",
    "\n",
    "plt.xlabel('average song counts each session per user')\n",
    "plt.ylabel('user_churn')\n",
    "plt.yticks([0, 1], ['not churn', 'churn'])\n",
    "plt.title('distribution of average song counts')\n",
    "plt.show()"
   ],
   "outputs": [
    {
     "output_type": "stream",
     "name": "stderr",
     "text": []
    },
    {
     "output_type": "display_data",
     "data": {
      "text/plain": [
       "<Figure size 432x288 with 1 Axes>"
      ],
      "image/png": "[encoded data removed]"
     },
     "metadata": {
      "needs_background": "light"
     }
    }
   ],
   "metadata": {}
  },
  {
   "cell_type": "code",
   "execution_count": 46,
   "source": [
    "# users having higher average songs counts tend to not churn\n",
    "# however the results are not significant"
   ],
   "outputs": [],
   "metadata": {}
  },
  {
   "cell_type": "markdown",
   "source": [
    "# 1.4.2.2 Membership Period"
   ],
   "metadata": {}
  },
  {
   "cell_type": "code",
   "execution_count": 47,
   "source": [
    "# time since registration\n",
    "# create new column of date difference between the event date and the registration date\n",
    "# then select the longest oneas membership period\n",
    "\n",
    "df_membership_pd = df.select('userId', 'registration', 'ts', 'user_churn')\\\n",
    "    .withColumn('lifetime', (df.ts - df.registration))\\\n",
    "        .groupBy('userId', 'user_churn')\\\n",
    "            .agg({'lifetime': 'max'})\\\n",
    "                .withColumnRenamed('max(lifetime)', 'lifetime')\\\n",
    "                    .select('userId', 'user_churn', (col('lifetime')/1000/3600/24).alias('lifetime'))\\\n",
    "                        .toPandas()\n",
    "\n",
    "df_membership_pd.head()"
   ],
   "outputs": [
    {
     "output_type": "stream",
     "name": "stderr",
     "text": []
    },
    {
     "output_type": "execute_result",
     "data": {
      "text/plain": [
       "   userId  user_churn    lifetime\n",
       "0  100010           0   55.643657\n",
       "1  200002           0   70.074630\n",
       "2     125           1   71.316887\n",
       "3     124           0  131.555914\n",
       "4      51           1   19.455845"
      ],
      "text/html": [
       "<div>\n",
       "<style scoped>\n",
       "    .dataframe tbody tr th:only-of-type {\n",
       "        vertical-align: middle;\n",
       "    }\n",
       "\n",
       "    .dataframe tbody tr th {\n",
       "        vertical-align: top;\n",
       "    }\n",
       "\n",
       "    .dataframe thead th {\n",
       "        text-align: right;\n",
       "    }\n",
       "</style>\n",
       "<table border=\"1\" class=\"dataframe\">\n",
       "  <thead>\n",
       "    <tr style=\"text-align: right;\">\n",
       "      <th></th>\n",
       "      <th>userId</th>\n",
       "      <th>user_churn</th>\n",
       "      <th>lifetime</th>\n",
       "    </tr>\n",
       "  </thead>\n",
       "  <tbody>\n",
       "    <tr>\n",
       "      <th>0</th>\n",
       "      <td>100010</td>\n",
       "      <td>0</td>\n",
       "      <td>55.643657</td>\n",
       "    </tr>\n",
       "    <tr>\n",
       "      <th>1</th>\n",
       "      <td>200002</td>\n",
       "      <td>0</td>\n",
       "      <td>70.074630</td>\n",
       "    </tr>\n",
       "    <tr>\n",
       "      <th>2</th>\n",
       "      <td>125</td>\n",
       "      <td>1</td>\n",
       "      <td>71.316887</td>\n",
       "    </tr>\n",
       "    <tr>\n",
       "      <th>3</th>\n",
       "      <td>124</td>\n",
       "      <td>0</td>\n",
       "      <td>131.555914</td>\n",
       "    </tr>\n",
       "    <tr>\n",
       "      <th>4</th>\n",
       "      <td>51</td>\n",
       "      <td>1</td>\n",
       "      <td>19.455845</td>\n",
       "    </tr>\n",
       "  </tbody>\n",
       "</table>\n",
       "</div>"
      ]
     },
     "metadata": {},
     "execution_count": 47
    }
   ],
   "metadata": {}
  },
  {
   "cell_type": "code",
   "execution_count": 58,
   "source": [
    "# display in boxplot\n",
    "\n",
    "sns.boxplot(data=df_membership_pd, y='user_churn', x='lifetime', orient='h')\n",
    "\n",
    "plt.xlabel('days since registration')\n",
    "plt.ylabel('user_churn')\n",
    "plt.yticks([0, 1], ['not churn', 'churn'])\n",
    "plt.title('distribution of membership period')\n",
    "plt.show()"
   ],
   "outputs": [
    {
     "output_type": "display_data",
     "data": {
      "text/plain": [
       "<Figure size 432x288 with 1 Axes>"
      ],
      "image/png": "[encoded data removed]"
     },
     "metadata": {
      "needs_background": "light"
     }
    }
   ],
   "metadata": {}
  },
  {
   "cell_type": "code",
   "execution_count": 51,
   "source": [
    "# users that churned have an average of around 50 days membership period\n",
    "# which means if the first 50 days of a new user is crucial to avoiding churning"
   ],
   "outputs": [],
   "metadata": {}
  },
  {
   "cell_type": "markdown",
   "source": [
    "# 1.4.2.3 No of Friends"
   ],
   "metadata": {}
  },
  {
   "cell_type": "code",
   "execution_count": 52,
   "source": [
    "# signaled by the appearance of 'Add Friend' in 'page'\n",
    "\n",
    "df_friends_pd = df.where('page ==  \"Add Friend\"').groupby(['user_churn', 'userId']).count()\\\n",
    "    .toPandas()\n",
    "\n",
    "df_friends_pd.head()"
   ],
   "outputs": [
    {
     "output_type": "stream",
     "name": "stderr",
     "text": []
    },
    {
     "output_type": "execute_result",
     "data": {
      "text/plain": [
       "   user_churn  userId  count\n",
       "0           0  100010      4\n",
       "1           0  200002      4\n",
       "2           0     124     74\n",
       "3           1      51     28\n",
       "4           0       7      1"
      ],
      "text/html": [
       "<div>\n",
       "<style scoped>\n",
       "    .dataframe tbody tr th:only-of-type {\n",
       "        vertical-align: middle;\n",
       "    }\n",
       "\n",
       "    .dataframe tbody tr th {\n",
       "        vertical-align: top;\n",
       "    }\n",
       "\n",
       "    .dataframe thead th {\n",
       "        text-align: right;\n",
       "    }\n",
       "</style>\n",
       "<table border=\"1\" class=\"dataframe\">\n",
       "  <thead>\n",
       "    <tr style=\"text-align: right;\">\n",
       "      <th></th>\n",
       "      <th>user_churn</th>\n",
       "      <th>userId</th>\n",
       "      <th>count</th>\n",
       "    </tr>\n",
       "  </thead>\n",
       "  <tbody>\n",
       "    <tr>\n",
       "      <th>0</th>\n",
       "      <td>0</td>\n",
       "      <td>100010</td>\n",
       "      <td>4</td>\n",
       "    </tr>\n",
       "    <tr>\n",
       "      <th>1</th>\n",
       "      <td>0</td>\n",
       "      <td>200002</td>\n",
       "      <td>4</td>\n",
       "    </tr>\n",
       "    <tr>\n",
       "      <th>2</th>\n",
       "      <td>0</td>\n",
       "      <td>124</td>\n",
       "      <td>74</td>\n",
       "    </tr>\n",
       "    <tr>\n",
       "      <th>3</th>\n",
       "      <td>1</td>\n",
       "      <td>51</td>\n",
       "      <td>28</td>\n",
       "    </tr>\n",
       "    <tr>\n",
       "      <th>4</th>\n",
       "      <td>0</td>\n",
       "      <td>7</td>\n",
       "      <td>1</td>\n",
       "    </tr>\n",
       "  </tbody>\n",
       "</table>\n",
       "</div>"
      ]
     },
     "metadata": {},
     "execution_count": 52
    }
   ],
   "metadata": {}
  },
  {
   "cell_type": "code",
   "execution_count": 59,
   "source": [
    "# display in boxplot\n",
    "\n",
    "sns.boxplot(data=df_friends_pd, y='user_churn', x='count', orient='h')\n",
    "\n",
    "plt.xlabel('no of friends')\n",
    "plt.ylabel('user_churn')\n",
    "plt.yticks([0, 1], ['not churn', 'churn'])\n",
    "plt.title('distribution of no of friends')\n",
    "plt.show()"
   ],
   "outputs": [
    {
     "output_type": "display_data",
     "data": {
      "text/plain": [
       "<Figure size 432x288 with 1 Axes>"
      ],
      "image/png": "[encoded data removed]"
     },
     "metadata": {
      "needs_background": "light"
     }
    }
   ],
   "metadata": {}
  },
  {
   "cell_type": "code",
   "execution_count": 54,
   "source": [
    "# around 75% of users that churned have less than 20 friends on the platform\n",
    "# therefore no of friends can serve as one of the indicators of possible churning users\n",
    "# however the difference between users churned and not churned is not significant"
   ],
   "outputs": [],
   "metadata": {}
  },
  {
   "cell_type": "markdown",
   "source": [
    "# 1.4.2.4 Page Events"
   ],
   "metadata": {}
  },
  {
   "cell_type": "code",
   "execution_count": 40,
   "source": [
    "# create pivot table\n",
    "\n",
    "df_page_pd = df.groupby(['userId']).pivot('page').count().fillna(0).toPandas()\n",
    "df_page_pd.head()"
   ],
   "outputs": [
    {
     "output_type": "stream",
     "name": "stderr",
     "text": []
    },
    {
     "output_type": "execute_result",
     "data": {
      "text/plain": [
       "   userId  About  Add Friend  Add to Playlist  Cancel  \\\n",
       "0  200002      3           4                8       0   \n",
       "1  100010      1           4                7       0   \n",
       "2     125      0           0                0       1   \n",
       "3      51      2          28               52       1   \n",
       "4     124      7          74              118       0   \n",
       "\n",
       "   Cancellation Confirmation  Downgrade  Error  Help  Home  Logout  NextSong  \\\n",
       "0                          0          5      0     2    20       5       387   \n",
       "1                          0          0      0     2    11       5       275   \n",
       "2                          1          0      0     0     0       0         8   \n",
       "3                          1         23      1    12    75      24      2111   \n",
       "4                          0         41      6    23   176      59      4079   \n",
       "\n",
       "   Roll Advert  Save Settings  Settings  Submit Downgrade  Submit Upgrade  \\\n",
       "0            7              0         3                 0               1   \n",
       "1           52              0         0                 0               0   \n",
       "2            1              0         0                 0               0   \n",
       "3            0              1        12                 0               0   \n",
       "4            4              6        20                 0               0   \n",
       "\n",
       "   Thumbs Down  Thumbs Up  Upgrade  \n",
       "0            6         21        2  \n",
       "1            5         17        2  \n",
       "2            0          0        0  \n",
       "3           21        100        0  \n",
       "4           41        171        0  "
      ],
      "text/html": [
       "<div>\n",
       "<style scoped>\n",
       "    .dataframe tbody tr th:only-of-type {\n",
       "        vertical-align: middle;\n",
       "    }\n",
       "\n",
       "    .dataframe tbody tr th {\n",
       "        vertical-align: top;\n",
       "    }\n",
       "\n",
       "    .dataframe thead th {\n",
       "        text-align: right;\n",
       "    }\n",
       "</style>\n",
       "<table border=\"1\" class=\"dataframe\">\n",
       "  <thead>\n",
       "    <tr style=\"text-align: right;\">\n",
       "      <th></th>\n",
       "      <th>userId</th>\n",
       "      <th>About</th>\n",
       "      <th>Add Friend</th>\n",
       "      <th>Add to Playlist</th>\n",
       "      <th>Cancel</th>\n",
       "      <th>Cancellation Confirmation</th>\n",
       "      <th>Downgrade</th>\n",
       "      <th>Error</th>\n",
       "      <th>Help</th>\n",
       "      <th>Home</th>\n",
       "      <th>Logout</th>\n",
       "      <th>NextSong</th>\n",
       "      <th>Roll Advert</th>\n",
       "      <th>Save Settings</th>\n",
       "      <th>Settings</th>\n",
       "      <th>Submit Downgrade</th>\n",
       "      <th>Submit Upgrade</th>\n",
       "      <th>Thumbs Down</th>\n",
       "      <th>Thumbs Up</th>\n",
       "      <th>Upgrade</th>\n",
       "    </tr>\n",
       "  </thead>\n",
       "  <tbody>\n",
       "    <tr>\n",
       "      <th>0</th>\n",
       "      <td>200002</td>\n",
       "      <td>3</td>\n",
       "      <td>4</td>\n",
       "      <td>8</td>\n",
       "      <td>0</td>\n",
       "      <td>0</td>\n",
       "      <td>5</td>\n",
       "      <td>0</td>\n",
       "      <td>2</td>\n",
       "      <td>20</td>\n",
       "      <td>5</td>\n",
       "      <td>387</td>\n",
       "      <td>7</td>\n",
       "      <td>0</td>\n",
       "      <td>3</td>\n",
       "      <td>0</td>\n",
       "      <td>1</td>\n",
       "      <td>6</td>\n",
       "      <td>21</td>\n",
       "      <td>2</td>\n",
       "    </tr>\n",
       "    <tr>\n",
       "      <th>1</th>\n",
       "      <td>100010</td>\n",
       "      <td>1</td>\n",
       "      <td>4</td>\n",
       "      <td>7</td>\n",
       "      <td>0</td>\n",
       "      <td>0</td>\n",
       "      <td>0</td>\n",
       "      <td>0</td>\n",
       "      <td>2</td>\n",
       "      <td>11</td>\n",
       "      <td>5</td>\n",
       "      <td>275</td>\n",
       "      <td>52</td>\n",
       "      <td>0</td>\n",
       "      <td>0</td>\n",
       "      <td>0</td>\n",
       "      <td>0</td>\n",
       "      <td>5</td>\n",
       "      <td>17</td>\n",
       "      <td>2</td>\n",
       "    </tr>\n",
       "    <tr>\n",
       "      <th>2</th>\n",
       "      <td>125</td>\n",
       "      <td>0</td>\n",
       "      <td>0</td>\n",
       "      <td>0</td>\n",
       "      <td>1</td>\n",
       "      <td>1</td>\n",
       "      <td>0</td>\n",
       "      <td>0</td>\n",
       "      <td>0</td>\n",
       "      <td>0</td>\n",
       "      <td>0</td>\n",
       "      <td>8</td>\n",
       "      <td>1</td>\n",
       "      <td>0</td>\n",
       "      <td>0</td>\n",
       "      <td>0</td>\n",
       "      <td>0</td>\n",
       "      <td>0</td>\n",
       "      <td>0</td>\n",
       "      <td>0</td>\n",
       "    </tr>\n",
       "    <tr>\n",
       "      <th>3</th>\n",
       "      <td>51</td>\n",
       "      <td>2</td>\n",
       "      <td>28</td>\n",
       "      <td>52</td>\n",
       "      <td>1</td>\n",
       "      <td>1</td>\n",
       "      <td>23</td>\n",
       "      <td>1</td>\n",
       "      <td>12</td>\n",
       "      <td>75</td>\n",
       "      <td>24</td>\n",
       "      <td>2111</td>\n",
       "      <td>0</td>\n",
       "      <td>1</td>\n",
       "      <td>12</td>\n",
       "      <td>0</td>\n",
       "      <td>0</td>\n",
       "      <td>21</td>\n",
       "      <td>100</td>\n",
       "      <td>0</td>\n",
       "    </tr>\n",
       "    <tr>\n",
       "      <th>4</th>\n",
       "      <td>124</td>\n",
       "      <td>7</td>\n",
       "      <td>74</td>\n",
       "      <td>118</td>\n",
       "      <td>0</td>\n",
       "      <td>0</td>\n",
       "      <td>41</td>\n",
       "      <td>6</td>\n",
       "      <td>23</td>\n",
       "      <td>176</td>\n",
       "      <td>59</td>\n",
       "      <td>4079</td>\n",
       "      <td>4</td>\n",
       "      <td>6</td>\n",
       "      <td>20</td>\n",
       "      <td>0</td>\n",
       "      <td>0</td>\n",
       "      <td>41</td>\n",
       "      <td>171</td>\n",
       "      <td>0</td>\n",
       "    </tr>\n",
       "  </tbody>\n",
       "</table>\n",
       "</div>"
      ]
     },
     "metadata": {},
     "execution_count": 40
    }
   ],
   "metadata": {}
  },
  {
   "cell_type": "code",
   "execution_count": 41,
   "source": [
    "# assuming the appearance of 'Cancellation Confirmation' as a signal of churning\n",
    "# change the column name\n",
    "\n",
    "df_page_pd = df_page_pd.rename(columns={'Cancellation Confirmation':'Churn'})\n",
    "df_page_pd.head()"
   ],
   "outputs": [
    {
     "output_type": "execute_result",
     "data": {
      "text/plain": [
       "   userId  About  Add Friend  Add to Playlist  Cancel  Churn  Downgrade  \\\n",
       "0  200002      3           4                8       0      0          5   \n",
       "1  100010      1           4                7       0      0          0   \n",
       "2     125      0           0                0       1      1          0   \n",
       "3      51      2          28               52       1      1         23   \n",
       "4     124      7          74              118       0      0         41   \n",
       "\n",
       "   Error  Help  Home  Logout  NextSong  Roll Advert  Save Settings  Settings  \\\n",
       "0      0     2    20       5       387            7              0         3   \n",
       "1      0     2    11       5       275           52              0         0   \n",
       "2      0     0     0       0         8            1              0         0   \n",
       "3      1    12    75      24      2111            0              1        12   \n",
       "4      6    23   176      59      4079            4              6        20   \n",
       "\n",
       "   Submit Downgrade  Submit Upgrade  Thumbs Down  Thumbs Up  Upgrade  \n",
       "0                 0               1            6         21        2  \n",
       "1                 0               0            5         17        2  \n",
       "2                 0               0            0          0        0  \n",
       "3                 0               0           21        100        0  \n",
       "4                 0               0           41        171        0  "
      ],
      "text/html": [
       "<div>\n",
       "<style scoped>\n",
       "    .dataframe tbody tr th:only-of-type {\n",
       "        vertical-align: middle;\n",
       "    }\n",
       "\n",
       "    .dataframe tbody tr th {\n",
       "        vertical-align: top;\n",
       "    }\n",
       "\n",
       "    .dataframe thead th {\n",
       "        text-align: right;\n",
       "    }\n",
       "</style>\n",
       "<table border=\"1\" class=\"dataframe\">\n",
       "  <thead>\n",
       "    <tr style=\"text-align: right;\">\n",
       "      <th></th>\n",
       "      <th>userId</th>\n",
       "      <th>About</th>\n",
       "      <th>Add Friend</th>\n",
       "      <th>Add to Playlist</th>\n",
       "      <th>Cancel</th>\n",
       "      <th>Churn</th>\n",
       "      <th>Downgrade</th>\n",
       "      <th>Error</th>\n",
       "      <th>Help</th>\n",
       "      <th>Home</th>\n",
       "      <th>Logout</th>\n",
       "      <th>NextSong</th>\n",
       "      <th>Roll Advert</th>\n",
       "      <th>Save Settings</th>\n",
       "      <th>Settings</th>\n",
       "      <th>Submit Downgrade</th>\n",
       "      <th>Submit Upgrade</th>\n",
       "      <th>Thumbs Down</th>\n",
       "      <th>Thumbs Up</th>\n",
       "      <th>Upgrade</th>\n",
       "    </tr>\n",
       "  </thead>\n",
       "  <tbody>\n",
       "    <tr>\n",
       "      <th>0</th>\n",
       "      <td>200002</td>\n",
       "      <td>3</td>\n",
       "      <td>4</td>\n",
       "      <td>8</td>\n",
       "      <td>0</td>\n",
       "      <td>0</td>\n",
       "      <td>5</td>\n",
       "      <td>0</td>\n",
       "      <td>2</td>\n",
       "      <td>20</td>\n",
       "      <td>5</td>\n",
       "      <td>387</td>\n",
       "      <td>7</td>\n",
       "      <td>0</td>\n",
       "      <td>3</td>\n",
       "      <td>0</td>\n",
       "      <td>1</td>\n",
       "      <td>6</td>\n",
       "      <td>21</td>\n",
       "      <td>2</td>\n",
       "    </tr>\n",
       "    <tr>\n",
       "      <th>1</th>\n",
       "      <td>100010</td>\n",
       "      <td>1</td>\n",
       "      <td>4</td>\n",
       "      <td>7</td>\n",
       "      <td>0</td>\n",
       "      <td>0</td>\n",
       "      <td>0</td>\n",
       "      <td>0</td>\n",
       "      <td>2</td>\n",
       "      <td>11</td>\n",
       "      <td>5</td>\n",
       "      <td>275</td>\n",
       "      <td>52</td>\n",
       "      <td>0</td>\n",
       "      <td>0</td>\n",
       "      <td>0</td>\n",
       "      <td>0</td>\n",
       "      <td>5</td>\n",
       "      <td>17</td>\n",
       "      <td>2</td>\n",
       "    </tr>\n",
       "    <tr>\n",
       "      <th>2</th>\n",
       "      <td>125</td>\n",
       "      <td>0</td>\n",
       "      <td>0</td>\n",
       "      <td>0</td>\n",
       "      <td>1</td>\n",
       "      <td>1</td>\n",
       "      <td>0</td>\n",
       "      <td>0</td>\n",
       "      <td>0</td>\n",
       "      <td>0</td>\n",
       "      <td>0</td>\n",
       "      <td>8</td>\n",
       "      <td>1</td>\n",
       "      <td>0</td>\n",
       "      <td>0</td>\n",
       "      <td>0</td>\n",
       "      <td>0</td>\n",
       "      <td>0</td>\n",
       "      <td>0</td>\n",
       "      <td>0</td>\n",
       "    </tr>\n",
       "    <tr>\n",
       "      <th>3</th>\n",
       "      <td>51</td>\n",
       "      <td>2</td>\n",
       "      <td>28</td>\n",
       "      <td>52</td>\n",
       "      <td>1</td>\n",
       "      <td>1</td>\n",
       "      <td>23</td>\n",
       "      <td>1</td>\n",
       "      <td>12</td>\n",
       "      <td>75</td>\n",
       "      <td>24</td>\n",
       "      <td>2111</td>\n",
       "      <td>0</td>\n",
       "      <td>1</td>\n",
       "      <td>12</td>\n",
       "      <td>0</td>\n",
       "      <td>0</td>\n",
       "      <td>21</td>\n",
       "      <td>100</td>\n",
       "      <td>0</td>\n",
       "    </tr>\n",
       "    <tr>\n",
       "      <th>4</th>\n",
       "      <td>124</td>\n",
       "      <td>7</td>\n",
       "      <td>74</td>\n",
       "      <td>118</td>\n",
       "      <td>0</td>\n",
       "      <td>0</td>\n",
       "      <td>41</td>\n",
       "      <td>6</td>\n",
       "      <td>23</td>\n",
       "      <td>176</td>\n",
       "      <td>59</td>\n",
       "      <td>4079</td>\n",
       "      <td>4</td>\n",
       "      <td>6</td>\n",
       "      <td>20</td>\n",
       "      <td>0</td>\n",
       "      <td>0</td>\n",
       "      <td>41</td>\n",
       "      <td>171</td>\n",
       "      <td>0</td>\n",
       "    </tr>\n",
       "  </tbody>\n",
       "</table>\n",
       "</div>"
      ]
     },
     "metadata": {},
     "execution_count": 41
    }
   ],
   "metadata": {}
  },
  {
   "cell_type": "code",
   "execution_count": 52,
   "source": [
    "# present in boxplots\n",
    "\n",
    "# create figure\n",
    "fig = plt.figure(figsize=(12, 12))\n",
    "\n",
    "selected_columns = [\n",
    "    'About', 'Add Friend', 'Add to Playlist', 'Downgrade',\n",
    "    'Error', 'Help', 'Home', 'Logout', \n",
    "    'NextSong', 'Roll Advert', 'Save Settings', 'Settings',\n",
    "    'Thumbs Down', 'Thumbs Up', 'Upgrade'\n",
    "]\n",
    "\n",
    "for i, coln in enumerate(selected_columns):\n",
    "\n",
    "    # append axes\n",
    "    ax = fig.add_subplot(4,5,i+1)\n",
    "    \n",
    "    # boxplot\n",
    "    df_page_pd.boxplot(coln, ax=ax, grid=False,  by='Churn', showfliers=False)\n",
    "\n",
    "fig.suptitle('')\n",
    "plt.tight_layout()\n",
    "plt.show()"
   ],
   "outputs": [
    {
     "output_type": "display_data",
     "data": {
      "text/plain": [
       "<Figure size 864x864 with 15 Axes>"
      ],
      "image/png": "[encoded data removed]"
     },
     "metadata": {
      "needs_background": "light"
     }
    }
   ],
   "metadata": {}
  },
  {
   "cell_type": "code",
   "execution_count": 46,
   "source": [
    "# In general, users churned have less engagement than users not churned\n",
    "# however, most of which do not show significant insights if we consider interquartile range only\n",
    "# noted that 'Thumbs Up' presented a little information about those users not churned\n",
    "# it is safe to state that if a user give more than 50 thumbs up, the user will probably not churned\n",
    "# this provide a benchmark for the user experience team to identify the group of potential churn users"
   ],
   "outputs": [],
   "metadata": {}
  },
  {
   "cell_type": "markdown",
   "source": [
    "# 1.4.2.5 Locations"
   ],
   "metadata": {}
  },
  {
   "cell_type": "code",
   "execution_count": 55,
   "source": [
    "# import region data\n",
    "region = spark.read.csv('region.csv', header=True)\n",
    "\n",
    "# create function for 'churn' labelling\n",
    "func_churn_label = udf(lambda x: 'Churn' if x == 1 else 'Not Churn')\n",
    "\n",
    "# create function for 'location' splitting\n",
    "func_location = udf(lambda x: x.split(', ')[1].split('-')[0])\n",
    "\n",
    "# show the procressed 'location'\n",
    "locations = df.withColumn('location', func_location(df['location']))\\\n",
    "    .select(['userId', 'location', 'user_churn']).drop_duplicates(subset=['userId'])\n",
    "\n",
    "# join data with region data\n",
    "locations = locations.join(region, locations['location'] == region['State Code'], how='left')\\\n",
    "    .select(['userId', col('Division').alias('location'), col('user_churn').alias('churn')])\\\n",
    "        .withColumn('churn', func_churn_label('churn'))\n",
    "\n",
    "locations_pd = locations.toPandas()\n",
    "\n",
    "# show the aggregate results\n",
    "locations_count = locations_pd.groupby(['location', 'churn']).count().unstack().fillna(0)['userId']\n",
    "locations_count['total'] = locations_count.sum(axis=1)\n",
    "\n",
    "locations_count.head()"
   ],
   "outputs": [
    {
     "output_type": "stream",
     "name": "stderr",
     "text": []
    },
    {
     "output_type": "execute_result",
     "data": {
      "text/plain": [
       "churn               Churn  Not Churn  total\n",
       "location                                   \n",
       "East North Central    8.0       16.0   24.0\n",
       "East South Central    7.0        7.0   14.0\n",
       "Middle Atlantic       8.0       23.0   31.0\n",
       "Mountain              5.0       13.0   18.0\n",
       "New England           0.0       16.0   16.0"
      ],
      "text/html": [
       "<div>\n",
       "<style scoped>\n",
       "    .dataframe tbody tr th:only-of-type {\n",
       "        vertical-align: middle;\n",
       "    }\n",
       "\n",
       "    .dataframe tbody tr th {\n",
       "        vertical-align: top;\n",
       "    }\n",
       "\n",
       "    .dataframe thead th {\n",
       "        text-align: right;\n",
       "    }\n",
       "</style>\n",
       "<table border=\"1\" class=\"dataframe\">\n",
       "  <thead>\n",
       "    <tr style=\"text-align: right;\">\n",
       "      <th>churn</th>\n",
       "      <th>Churn</th>\n",
       "      <th>Not Churn</th>\n",
       "      <th>total</th>\n",
       "    </tr>\n",
       "    <tr>\n",
       "      <th>location</th>\n",
       "      <th></th>\n",
       "      <th></th>\n",
       "      <th></th>\n",
       "    </tr>\n",
       "  </thead>\n",
       "  <tbody>\n",
       "    <tr>\n",
       "      <th>East North Central</th>\n",
       "      <td>8.0</td>\n",
       "      <td>16.0</td>\n",
       "      <td>24.0</td>\n",
       "    </tr>\n",
       "    <tr>\n",
       "      <th>East South Central</th>\n",
       "      <td>7.0</td>\n",
       "      <td>7.0</td>\n",
       "      <td>14.0</td>\n",
       "    </tr>\n",
       "    <tr>\n",
       "      <th>Middle Atlantic</th>\n",
       "      <td>8.0</td>\n",
       "      <td>23.0</td>\n",
       "      <td>31.0</td>\n",
       "    </tr>\n",
       "    <tr>\n",
       "      <th>Mountain</th>\n",
       "      <td>5.0</td>\n",
       "      <td>13.0</td>\n",
       "      <td>18.0</td>\n",
       "    </tr>\n",
       "    <tr>\n",
       "      <th>New England</th>\n",
       "      <td>0.0</td>\n",
       "      <td>16.0</td>\n",
       "      <td>16.0</td>\n",
       "    </tr>\n",
       "  </tbody>\n",
       "</table>\n",
       "</div>"
      ]
     },
     "metadata": {},
     "execution_count": 55
    }
   ],
   "metadata": {}
  },
  {
   "cell_type": "code",
   "execution_count": 59,
   "source": [
    "# display in bar chart\n",
    "\n",
    "plt.figure(figsize=(10,4))\n",
    "plt.bar(locations_count.index, locations_count['Churn'] / locations_count['total'])\n",
    "\n",
    "plt.title('rate of churn against locations')\n",
    "plt.xticks(rotation=30, ha='right')\n",
    "plt.xlabel('user location')\n",
    "plt.ylabel('rate of churn')\n",
    "plt.show()"
   ],
   "outputs": [
    {
     "output_type": "display_data",
     "data": {
      "text/plain": [
       "<Figure size 720x288 with 1 Axes>"
      ],
      "image/svg+xml": "<?xml version=\"1.0\" encoding=\"utf-8\" standalone=\"no\"?>\n<!DOCTYPE svg PUBLIC \"-//W3C//DTD SVG 1.1//EN\"\n  \"http://www.w3.org/Graphics/SVG/1.1/DTD/svg11.dtd\">\n<svg height=\"324.224002pt\" version=\"1.1\" viewBox=\"0 0 608.98125 324.224002\" width=\"608.98125pt\" xmlns=\"http://www.w3.org/2000/svg\" xmlns:xlink=\"http://www.w3.org/1999/xlink\">\n <metadata>\n  <rdf:RDF xmlns:cc=\"http://creativecommons.org/ns#\" xmlns:dc=\"http://purl.org/dc/elements/1.1/\" xmlns:rdf=\"http://www.w3.org/1999/02/22-rdf-syntax-ns#\">\n   <cc:Work>\n    <dc:type rdf:resource=\"http://purl.org/dc/dcmitype/StillImage\"/>\n    <dc:date>2021-08-16T14:51:56.044911</dc:date>\n    <dc:format>image/svg+xml</dc:format>\n    <dc:creator>\n     <cc:Agent>\n      <dc:title>Matplotlib v3.4.2, https://matplotlib.org/</dc:title>\n     </cc:Agent>\n    </dc:creator>\n   </cc:Work>\n  </rdf:RDF>\n </metadata>\n <defs>\n  <style type=\"text/css\">*{stroke-linecap:butt;stroke-linejoin:round;}</style>\n </defs>\n <g id=\"figure_1\">\n  <g id=\"patch_1\">\n   <path d=\"M 0 324.224002 \nL 608.98125 324.224002 \nL 608.98125 0 \nL 0 0 \nz\n\" style=\"fill:none;\"/>\n  </g>\n  <g id=\"axes_1\">\n   <g id=\"patch_2\">\n    <path d=\"M 43.78125 239.758125 \nL 601.78125 239.758125 \nL 601.78125 22.318125 \nL 43.78125 22.318125 \nz\n\" style=\"fill:#ffffff;\"/>\n   </g>\n   <g id=\"patch_3\">\n    <path clip-path=\"url(#p0ea136adfe)\" d=\"M 69.144886 239.758125 \nL 115.260589 239.758125 \nL 115.260589 101.700982 \nL 69.144886 101.700982 \nz\n\" style=\"fill:#1f77b4;\"/>\n   </g>\n   <g id=\"patch_4\">\n    <path clip-path=\"url(#p0ea136adfe)\" d=\"M 126.789514 239.758125 \nL 172.905217 239.758125 \nL 172.905217 32.672411 \nL 126.789514 32.672411 \nz\n\" style=\"fill:#1f77b4;\"/>\n   </g>\n   <g id=\"patch_5\">\n    <path clip-path=\"url(#p0ea136adfe)\" d=\"M 184.434143 239.758125 \nL 230.549845 239.758125 \nL 230.549845 132.875176 \nL 184.434143 132.875176 \nz\n\" style=\"fill:#1f77b4;\"/>\n   </g>\n   <g id=\"patch_6\">\n    <path clip-path=\"url(#p0ea136adfe)\" d=\"M 242.078771 239.758125 \nL 288.194473 239.758125 \nL 288.194473 124.710506 \nL 242.078771 124.710506 \nz\n\" style=\"fill:#1f77b4;\"/>\n   </g>\n   <g id=\"patch_7\">\n    <path clip-path=\"url(#p0ea136adfe)\" d=\"M 299.723399 239.758125 \nL 345.839101 239.758125 \nL 345.839101 239.758125 \nL 299.723399 239.758125 \nz\n\" style=\"fill:#1f77b4;\"/>\n   </g>\n   <g id=\"patch_8\">\n    <path clip-path=\"url(#p0ea136adfe)\" d=\"M 357.368027 239.758125 \nL 403.483729 239.758125 \nL 403.483729 151.007105 \nL 357.368027 151.007105 \nz\n\" style=\"fill:#1f77b4;\"/>\n   </g>\n   <g id=\"patch_9\">\n    <path clip-path=\"url(#p0ea136adfe)\" d=\"M 415.012655 239.758125 \nL 461.128357 239.758125 \nL 461.128357 169.260861 \nL 415.012655 169.260861 \nz\n\" style=\"fill:#1f77b4;\"/>\n   </g>\n   <g id=\"patch_10\">\n    <path clip-path=\"url(#p0ea136adfe)\" d=\"M 472.657283 239.758125 \nL 518.772986 239.758125 \nL 518.772986 176.039444 \nL 472.657283 176.039444 \nz\n\" style=\"fill:#1f77b4;\"/>\n   </g>\n   <g id=\"patch_11\">\n    <path clip-path=\"url(#p0ea136adfe)\" d=\"M 530.301911 239.758125 \nL 576.417614 239.758125 \nL 576.417614 136.215268 \nL 530.301911 136.215268 \nz\n\" style=\"fill:#1f77b4;\"/>\n   </g>\n   <g id=\"matplotlib.axis_1\">\n    <g id=\"xtick_1\">\n     <g id=\"line2d_1\">\n      <defs>\n       <path d=\"M 0 0 \nL 0 3.5 \n\" id=\"m583589fc7c\" style=\"stroke:#000000;stroke-width:0.8;\"/>\n      </defs>\n      <g>\n       <use style=\"stroke:#000000;stroke-width:0.8;\" x=\"92.202738\" xlink:href=\"#m583589fc7c\" y=\"239.758125\"/>\n      </g>\n     </g>\n     <g id=\"text_1\">\n      <!-- East North Central -->\n      <g transform=\"translate(11.217924 299.494815)rotate(-30)scale(0.1 -0.1)\">\n       <defs>\n        <path d=\"M 628 4666 \nL 3578 4666 \nL 3578 4134 \nL 1259 4134 \nL 1259 2753 \nL 3481 2753 \nL 3481 2222 \nL 1259 2222 \nL 1259 531 \nL 3634 531 \nL 3634 0 \nL 628 0 \nL 628 4666 \nz\n\" id=\"DejaVuSans-45\" transform=\"scale(0.015625)\"/>\n        <path d=\"M 2194 1759 \nQ 1497 1759 1228 1600 \nQ 959 1441 959 1056 \nQ 959 750 1161 570 \nQ 1363 391 1709 391 \nQ 2188 391 2477 730 \nQ 2766 1069 2766 1631 \nL 2766 1759 \nL 2194 1759 \nz\nM 3341 1997 \nL 3341 0 \nL 2766 0 \nL 2766 531 \nQ 2569 213 2275 61 \nQ 1981 -91 1556 -91 \nQ 1019 -91 701 211 \nQ 384 513 384 1019 \nQ 384 1609 779 1909 \nQ 1175 2209 1959 2209 \nL 2766 2209 \nL 2766 2266 \nQ 2766 2663 2505 2880 \nQ 2244 3097 1772 3097 \nQ 1472 3097 1187 3025 \nQ 903 2953 641 2809 \nL 641 3341 \nQ 956 3463 1253 3523 \nQ 1550 3584 1831 3584 \nQ 2591 3584 2966 3190 \nQ 3341 2797 3341 1997 \nz\n\" id=\"DejaVuSans-61\" transform=\"scale(0.015625)\"/>\n        <path d=\"M 2834 3397 \nL 2834 2853 \nQ 2591 2978 2328 3040 \nQ 2066 3103 1784 3103 \nQ 1356 3103 1142 2972 \nQ 928 2841 928 2578 \nQ 928 2378 1081 2264 \nQ 1234 2150 1697 2047 \nL 1894 2003 \nQ 2506 1872 2764 1633 \nQ 3022 1394 3022 966 \nQ 3022 478 2636 193 \nQ 2250 -91 1575 -91 \nQ 1294 -91 989 -36 \nQ 684 19 347 128 \nL 347 722 \nQ 666 556 975 473 \nQ 1284 391 1588 391 \nQ 1994 391 2212 530 \nQ 2431 669 2431 922 \nQ 2431 1156 2273 1281 \nQ 2116 1406 1581 1522 \nL 1381 1569 \nQ 847 1681 609 1914 \nQ 372 2147 372 2553 \nQ 372 3047 722 3315 \nQ 1072 3584 1716 3584 \nQ 2034 3584 2315 3537 \nQ 2597 3491 2834 3397 \nz\n\" id=\"DejaVuSans-73\" transform=\"scale(0.015625)\"/>\n        <path d=\"M 1172 4494 \nL 1172 3500 \nL 2356 3500 \nL 2356 3053 \nL 1172 3053 \nL 1172 1153 \nQ 1172 725 1289 603 \nQ 1406 481 1766 481 \nL 2356 481 \nL 2356 0 \nL 1766 0 \nQ 1100 0 847 248 \nQ 594 497 594 1153 \nL 594 3053 \nL 172 3053 \nL 172 3500 \nL 594 3500 \nL 594 4494 \nL 1172 4494 \nz\n\" id=\"DejaVuSans-74\" transform=\"scale(0.015625)\"/>\n        <path id=\"DejaVuSans-20\" transform=\"scale(0.015625)\"/>\n        <path d=\"M 628 4666 \nL 1478 4666 \nL 3547 763 \nL 3547 4666 \nL 4159 4666 \nL 4159 0 \nL 3309 0 \nL 1241 3903 \nL 1241 0 \nL 628 0 \nL 628 4666 \nz\n\" id=\"DejaVuSans-4e\" transform=\"scale(0.015625)\"/>\n        <path d=\"M 1959 3097 \nQ 1497 3097 1228 2736 \nQ 959 2375 959 1747 \nQ 959 1119 1226 758 \nQ 1494 397 1959 397 \nQ 2419 397 2687 759 \nQ 2956 1122 2956 1747 \nQ 2956 2369 2687 2733 \nQ 2419 3097 1959 3097 \nz\nM 1959 3584 \nQ 2709 3584 3137 3096 \nQ 3566 2609 3566 1747 \nQ 3566 888 3137 398 \nQ 2709 -91 1959 -91 \nQ 1206 -91 779 398 \nQ 353 888 353 1747 \nQ 353 2609 779 3096 \nQ 1206 3584 1959 3584 \nz\n\" id=\"DejaVuSans-6f\" transform=\"scale(0.015625)\"/>\n        <path d=\"M 2631 2963 \nQ 2534 3019 2420 3045 \nQ 2306 3072 2169 3072 \nQ 1681 3072 1420 2755 \nQ 1159 2438 1159 1844 \nL 1159 0 \nL 581 0 \nL 581 3500 \nL 1159 3500 \nL 1159 2956 \nQ 1341 3275 1631 3429 \nQ 1922 3584 2338 3584 \nQ 2397 3584 2469 3576 \nQ 2541 3569 2628 3553 \nL 2631 2963 \nz\n\" id=\"DejaVuSans-72\" transform=\"scale(0.015625)\"/>\n        <path d=\"M 3513 2113 \nL 3513 0 \nL 2938 0 \nL 2938 2094 \nQ 2938 2591 2744 2837 \nQ 2550 3084 2163 3084 \nQ 1697 3084 1428 2787 \nQ 1159 2491 1159 1978 \nL 1159 0 \nL 581 0 \nL 581 4863 \nL 1159 4863 \nL 1159 2956 \nQ 1366 3272 1645 3428 \nQ 1925 3584 2291 3584 \nQ 2894 3584 3203 3211 \nQ 3513 2838 3513 2113 \nz\n\" id=\"DejaVuSans-68\" transform=\"scale(0.015625)\"/>\n        <path d=\"M 4122 4306 \nL 4122 3641 \nQ 3803 3938 3442 4084 \nQ 3081 4231 2675 4231 \nQ 1875 4231 1450 3742 \nQ 1025 3253 1025 2328 \nQ 1025 1406 1450 917 \nQ 1875 428 2675 428 \nQ 3081 428 3442 575 \nQ 3803 722 4122 1019 \nL 4122 359 \nQ 3791 134 3420 21 \nQ 3050 -91 2638 -91 \nQ 1578 -91 968 557 \nQ 359 1206 359 2328 \nQ 359 3453 968 4101 \nQ 1578 4750 2638 4750 \nQ 3056 4750 3426 4639 \nQ 3797 4528 4122 4306 \nz\n\" id=\"DejaVuSans-43\" transform=\"scale(0.015625)\"/>\n        <path d=\"M 3597 1894 \nL 3597 1613 \nL 953 1613 \nQ 991 1019 1311 708 \nQ 1631 397 2203 397 \nQ 2534 397 2845 478 \nQ 3156 559 3463 722 \nL 3463 178 \nQ 3153 47 2828 -22 \nQ 2503 -91 2169 -91 \nQ 1331 -91 842 396 \nQ 353 884 353 1716 \nQ 353 2575 817 3079 \nQ 1281 3584 2069 3584 \nQ 2775 3584 3186 3129 \nQ 3597 2675 3597 1894 \nz\nM 3022 2063 \nQ 3016 2534 2758 2815 \nQ 2500 3097 2075 3097 \nQ 1594 3097 1305 2825 \nQ 1016 2553 972 2059 \nL 3022 2063 \nz\n\" id=\"DejaVuSans-65\" transform=\"scale(0.015625)\"/>\n        <path d=\"M 3513 2113 \nL 3513 0 \nL 2938 0 \nL 2938 2094 \nQ 2938 2591 2744 2837 \nQ 2550 3084 2163 3084 \nQ 1697 3084 1428 2787 \nQ 1159 2491 1159 1978 \nL 1159 0 \nL 581 0 \nL 581 3500 \nL 1159 3500 \nL 1159 2956 \nQ 1366 3272 1645 3428 \nQ 1925 3584 2291 3584 \nQ 2894 3584 3203 3211 \nQ 3513 2838 3513 2113 \nz\n\" id=\"DejaVuSans-6e\" transform=\"scale(0.015625)\"/>\n        <path d=\"M 603 4863 \nL 1178 4863 \nL 1178 0 \nL 603 0 \nL 603 4863 \nz\n\" id=\"DejaVuSans-6c\" transform=\"scale(0.015625)\"/>\n       </defs>\n       <use xlink:href=\"#DejaVuSans-45\"/>\n       <use x=\"63.183594\" xlink:href=\"#DejaVuSans-61\"/>\n       <use x=\"124.462891\" xlink:href=\"#DejaVuSans-73\"/>\n       <use x=\"176.5625\" xlink:href=\"#DejaVuSans-74\"/>\n       <use x=\"215.771484\" xlink:href=\"#DejaVuSans-20\"/>\n       <use x=\"247.558594\" xlink:href=\"#DejaVuSans-4e\"/>\n       <use x=\"322.363281\" xlink:href=\"#DejaVuSans-6f\"/>\n       <use x=\"383.544922\" xlink:href=\"#DejaVuSans-72\"/>\n       <use x=\"424.658203\" xlink:href=\"#DejaVuSans-74\"/>\n       <use x=\"463.867188\" xlink:href=\"#DejaVuSans-68\"/>\n       <use x=\"527.246094\" xlink:href=\"#DejaVuSans-20\"/>\n       <use x=\"559.033203\" xlink:href=\"#DejaVuSans-43\"/>\n       <use x=\"628.857422\" xlink:href=\"#DejaVuSans-65\"/>\n       <use x=\"690.380859\" xlink:href=\"#DejaVuSans-6e\"/>\n       <use x=\"753.759766\" xlink:href=\"#DejaVuSans-74\"/>\n       <use x=\"792.96875\" xlink:href=\"#DejaVuSans-72\"/>\n       <use x=\"834.082031\" xlink:href=\"#DejaVuSans-61\"/>\n       <use x=\"895.361328\" xlink:href=\"#DejaVuSans-6c\"/>\n      </g>\n     </g>\n    </g>\n    <g id=\"xtick_2\">\n     <g id=\"line2d_2\">\n      <g>\n       <use style=\"stroke:#000000;stroke-width:0.8;\" x=\"149.847366\" xlink:href=\"#m583589fc7c\" y=\"239.758125\"/>\n      </g>\n     </g>\n     <g id=\"text_2\">\n      <!-- East South Central -->\n      <g transform=\"translate(67.915337 300.04169)rotate(-30)scale(0.1 -0.1)\">\n       <defs>\n        <path d=\"M 3425 4513 \nL 3425 3897 \nQ 3066 4069 2747 4153 \nQ 2428 4238 2131 4238 \nQ 1616 4238 1336 4038 \nQ 1056 3838 1056 3469 \nQ 1056 3159 1242 3001 \nQ 1428 2844 1947 2747 \nL 2328 2669 \nQ 3034 2534 3370 2195 \nQ 3706 1856 3706 1288 \nQ 3706 609 3251 259 \nQ 2797 -91 1919 -91 \nQ 1588 -91 1214 -16 \nQ 841 59 441 206 \nL 441 856 \nQ 825 641 1194 531 \nQ 1563 422 1919 422 \nQ 2459 422 2753 634 \nQ 3047 847 3047 1241 \nQ 3047 1584 2836 1778 \nQ 2625 1972 2144 2069 \nL 1759 2144 \nQ 1053 2284 737 2584 \nQ 422 2884 422 3419 \nQ 422 4038 858 4394 \nQ 1294 4750 2059 4750 \nQ 2388 4750 2728 4690 \nQ 3069 4631 3425 4513 \nz\n\" id=\"DejaVuSans-53\" transform=\"scale(0.015625)\"/>\n        <path d=\"M 544 1381 \nL 544 3500 \nL 1119 3500 \nL 1119 1403 \nQ 1119 906 1312 657 \nQ 1506 409 1894 409 \nQ 2359 409 2629 706 \nQ 2900 1003 2900 1516 \nL 2900 3500 \nL 3475 3500 \nL 3475 0 \nL 2900 0 \nL 2900 538 \nQ 2691 219 2414 64 \nQ 2138 -91 1772 -91 \nQ 1169 -91 856 284 \nQ 544 659 544 1381 \nz\nM 1991 3584 \nL 1991 3584 \nz\n\" id=\"DejaVuSans-75\" transform=\"scale(0.015625)\"/>\n       </defs>\n       <use xlink:href=\"#DejaVuSans-45\"/>\n       <use x=\"63.183594\" xlink:href=\"#DejaVuSans-61\"/>\n       <use x=\"124.462891\" xlink:href=\"#DejaVuSans-73\"/>\n       <use x=\"176.5625\" xlink:href=\"#DejaVuSans-74\"/>\n       <use x=\"215.771484\" xlink:href=\"#DejaVuSans-20\"/>\n       <use x=\"247.558594\" xlink:href=\"#DejaVuSans-53\"/>\n       <use x=\"311.035156\" xlink:href=\"#DejaVuSans-6f\"/>\n       <use x=\"372.216797\" xlink:href=\"#DejaVuSans-75\"/>\n       <use x=\"435.595703\" xlink:href=\"#DejaVuSans-74\"/>\n       <use x=\"474.804688\" xlink:href=\"#DejaVuSans-68\"/>\n       <use x=\"538.183594\" xlink:href=\"#DejaVuSans-20\"/>\n       <use x=\"569.970703\" xlink:href=\"#DejaVuSans-43\"/>\n       <use x=\"639.794922\" xlink:href=\"#DejaVuSans-65\"/>\n       <use x=\"701.318359\" xlink:href=\"#DejaVuSans-6e\"/>\n       <use x=\"764.697266\" xlink:href=\"#DejaVuSans-74\"/>\n       <use x=\"803.90625\" xlink:href=\"#DejaVuSans-72\"/>\n       <use x=\"845.019531\" xlink:href=\"#DejaVuSans-61\"/>\n       <use x=\"906.298828\" xlink:href=\"#DejaVuSans-6c\"/>\n      </g>\n     </g>\n    </g>\n    <g id=\"xtick_3\">\n     <g id=\"line2d_3\">\n      <g>\n       <use style=\"stroke:#000000;stroke-width:0.8;\" x=\"207.491994\" xlink:href=\"#m583589fc7c\" y=\"239.758125\"/>\n      </g>\n     </g>\n     <g id=\"text_3\">\n      <!-- Middle Atlantic -->\n      <g transform=\"translate(142.159236 290.458096)rotate(-30)scale(0.1 -0.1)\">\n       <defs>\n        <path d=\"M 628 4666 \nL 1569 4666 \nL 2759 1491 \nL 3956 4666 \nL 4897 4666 \nL 4897 0 \nL 4281 0 \nL 4281 4097 \nL 3078 897 \nL 2444 897 \nL 1241 4097 \nL 1241 0 \nL 628 0 \nL 628 4666 \nz\n\" id=\"DejaVuSans-4d\" transform=\"scale(0.015625)\"/>\n        <path d=\"M 603 3500 \nL 1178 3500 \nL 1178 0 \nL 603 0 \nL 603 3500 \nz\nM 603 4863 \nL 1178 4863 \nL 1178 4134 \nL 603 4134 \nL 603 4863 \nz\n\" id=\"DejaVuSans-69\" transform=\"scale(0.015625)\"/>\n        <path d=\"M 2906 2969 \nL 2906 4863 \nL 3481 4863 \nL 3481 0 \nL 2906 0 \nL 2906 525 \nQ 2725 213 2448 61 \nQ 2172 -91 1784 -91 \nQ 1150 -91 751 415 \nQ 353 922 353 1747 \nQ 353 2572 751 3078 \nQ 1150 3584 1784 3584 \nQ 2172 3584 2448 3432 \nQ 2725 3281 2906 2969 \nz\nM 947 1747 \nQ 947 1113 1208 752 \nQ 1469 391 1925 391 \nQ 2381 391 2643 752 \nQ 2906 1113 2906 1747 \nQ 2906 2381 2643 2742 \nQ 2381 3103 1925 3103 \nQ 1469 3103 1208 2742 \nQ 947 2381 947 1747 \nz\n\" id=\"DejaVuSans-64\" transform=\"scale(0.015625)\"/>\n        <path d=\"M 2188 4044 \nL 1331 1722 \nL 3047 1722 \nL 2188 4044 \nz\nM 1831 4666 \nL 2547 4666 \nL 4325 0 \nL 3669 0 \nL 3244 1197 \nL 1141 1197 \nL 716 0 \nL 50 0 \nL 1831 4666 \nz\n\" id=\"DejaVuSans-41\" transform=\"scale(0.015625)\"/>\n        <path d=\"M 3122 3366 \nL 3122 2828 \nQ 2878 2963 2633 3030 \nQ 2388 3097 2138 3097 \nQ 1578 3097 1268 2742 \nQ 959 2388 959 1747 \nQ 959 1106 1268 751 \nQ 1578 397 2138 397 \nQ 2388 397 2633 464 \nQ 2878 531 3122 666 \nL 3122 134 \nQ 2881 22 2623 -34 \nQ 2366 -91 2075 -91 \nQ 1284 -91 818 406 \nQ 353 903 353 1747 \nQ 353 2603 823 3093 \nQ 1294 3584 2113 3584 \nQ 2378 3584 2631 3529 \nQ 2884 3475 3122 3366 \nz\n\" id=\"DejaVuSans-63\" transform=\"scale(0.015625)\"/>\n       </defs>\n       <use xlink:href=\"#DejaVuSans-4d\"/>\n       <use x=\"86.279297\" xlink:href=\"#DejaVuSans-69\"/>\n       <use x=\"114.0625\" xlink:href=\"#DejaVuSans-64\"/>\n       <use x=\"177.539062\" xlink:href=\"#DejaVuSans-64\"/>\n       <use x=\"241.015625\" xlink:href=\"#DejaVuSans-6c\"/>\n       <use x=\"268.798828\" xlink:href=\"#DejaVuSans-65\"/>\n       <use x=\"330.322266\" xlink:href=\"#DejaVuSans-20\"/>\n       <use x=\"362.109375\" xlink:href=\"#DejaVuSans-41\"/>\n       <use x=\"428.767578\" xlink:href=\"#DejaVuSans-74\"/>\n       <use x=\"467.976562\" xlink:href=\"#DejaVuSans-6c\"/>\n       <use x=\"495.759766\" xlink:href=\"#DejaVuSans-61\"/>\n       <use x=\"557.039062\" xlink:href=\"#DejaVuSans-6e\"/>\n       <use x=\"620.417969\" xlink:href=\"#DejaVuSans-74\"/>\n       <use x=\"659.626953\" xlink:href=\"#DejaVuSans-69\"/>\n       <use x=\"687.410156\" xlink:href=\"#DejaVuSans-63\"/>\n      </g>\n     </g>\n    </g>\n    <g id=\"xtick_4\">\n     <g id=\"line2d_4\">\n      <g>\n       <use style=\"stroke:#000000;stroke-width:0.8;\" x=\"265.136622\" xlink:href=\"#m583589fc7c\" y=\"239.758125\"/>\n      </g>\n     </g>\n     <g id=\"text_4\">\n      <!-- Mountain -->\n      <g transform=\"translate(223.752173 276.631534)rotate(-30)scale(0.1 -0.1)\">\n       <use xlink:href=\"#DejaVuSans-4d\"/>\n       <use x=\"86.279297\" xlink:href=\"#DejaVuSans-6f\"/>\n       <use x=\"147.460938\" xlink:href=\"#DejaVuSans-75\"/>\n       <use x=\"210.839844\" xlink:href=\"#DejaVuSans-6e\"/>\n       <use x=\"274.21875\" xlink:href=\"#DejaVuSans-74\"/>\n       <use x=\"313.427734\" xlink:href=\"#DejaVuSans-61\"/>\n       <use x=\"374.707031\" xlink:href=\"#DejaVuSans-69\"/>\n       <use x=\"402.490234\" xlink:href=\"#DejaVuSans-6e\"/>\n      </g>\n     </g>\n    </g>\n    <g id=\"xtick_5\">\n     <g id=\"line2d_5\">\n      <g>\n       <use style=\"stroke:#000000;stroke-width:0.8;\" x=\"322.78125\" xlink:href=\"#m583589fc7c\" y=\"239.758125\"/>\n      </g>\n     </g>\n     <g id=\"text_5\">\n      <!-- New England -->\n      <g transform=\"translate(264.940965 286.132315)rotate(-30)scale(0.1 -0.1)\">\n       <defs>\n        <path d=\"M 269 3500 \nL 844 3500 \nL 1563 769 \nL 2278 3500 \nL 2956 3500 \nL 3675 769 \nL 4391 3500 \nL 4966 3500 \nL 4050 0 \nL 3372 0 \nL 2619 2869 \nL 1863 0 \nL 1184 0 \nL 269 3500 \nz\n\" id=\"DejaVuSans-77\" transform=\"scale(0.015625)\"/>\n        <path d=\"M 2906 1791 \nQ 2906 2416 2648 2759 \nQ 2391 3103 1925 3103 \nQ 1463 3103 1205 2759 \nQ 947 2416 947 1791 \nQ 947 1169 1205 825 \nQ 1463 481 1925 481 \nQ 2391 481 2648 825 \nQ 2906 1169 2906 1791 \nz\nM 3481 434 \nQ 3481 -459 3084 -895 \nQ 2688 -1331 1869 -1331 \nQ 1566 -1331 1297 -1286 \nQ 1028 -1241 775 -1147 \nL 775 -588 \nQ 1028 -725 1275 -790 \nQ 1522 -856 1778 -856 \nQ 2344 -856 2625 -561 \nQ 2906 -266 2906 331 \nL 2906 616 \nQ 2728 306 2450 153 \nQ 2172 0 1784 0 \nQ 1141 0 747 490 \nQ 353 981 353 1791 \nQ 353 2603 747 3093 \nQ 1141 3584 1784 3584 \nQ 2172 3584 2450 3431 \nQ 2728 3278 2906 2969 \nL 2906 3500 \nL 3481 3500 \nL 3481 434 \nz\n\" id=\"DejaVuSans-67\" transform=\"scale(0.015625)\"/>\n       </defs>\n       <use xlink:href=\"#DejaVuSans-4e\"/>\n       <use x=\"74.804688\" xlink:href=\"#DejaVuSans-65\"/>\n       <use x=\"136.328125\" xlink:href=\"#DejaVuSans-77\"/>\n       <use x=\"218.115234\" xlink:href=\"#DejaVuSans-20\"/>\n       <use x=\"249.902344\" xlink:href=\"#DejaVuSans-45\"/>\n       <use x=\"313.085938\" xlink:href=\"#DejaVuSans-6e\"/>\n       <use x=\"376.464844\" xlink:href=\"#DejaVuSans-67\"/>\n       <use x=\"439.941406\" xlink:href=\"#DejaVuSans-6c\"/>\n       <use x=\"467.724609\" xlink:href=\"#DejaVuSans-61\"/>\n       <use x=\"529.003906\" xlink:href=\"#DejaVuSans-6e\"/>\n       <use x=\"592.382812\" xlink:href=\"#DejaVuSans-64\"/>\n      </g>\n     </g>\n    </g>\n    <g id=\"xtick_6\">\n     <g id=\"line2d_6\">\n      <g>\n       <use style=\"stroke:#000000;stroke-width:0.8;\" x=\"380.425878\" xlink:href=\"#m583589fc7c\" y=\"239.758125\"/>\n      </g>\n     </g>\n     <g id=\"text_6\">\n      <!-- Pacific -->\n      <g transform=\"translate(351.862664 269.22919)rotate(-30)scale(0.1 -0.1)\">\n       <defs>\n        <path d=\"M 1259 4147 \nL 1259 2394 \nL 2053 2394 \nQ 2494 2394 2734 2622 \nQ 2975 2850 2975 3272 \nQ 2975 3691 2734 3919 \nQ 2494 4147 2053 4147 \nL 1259 4147 \nz\nM 628 4666 \nL 2053 4666 \nQ 2838 4666 3239 4311 \nQ 3641 3956 3641 3272 \nQ 3641 2581 3239 2228 \nQ 2838 1875 2053 1875 \nL 1259 1875 \nL 1259 0 \nL 628 0 \nL 628 4666 \nz\n\" id=\"DejaVuSans-50\" transform=\"scale(0.015625)\"/>\n        <path d=\"M 2375 4863 \nL 2375 4384 \nL 1825 4384 \nQ 1516 4384 1395 4259 \nQ 1275 4134 1275 3809 \nL 1275 3500 \nL 2222 3500 \nL 2222 3053 \nL 1275 3053 \nL 1275 0 \nL 697 0 \nL 697 3053 \nL 147 3053 \nL 147 3500 \nL 697 3500 \nL 697 3744 \nQ 697 4328 969 4595 \nQ 1241 4863 1831 4863 \nL 2375 4863 \nz\n\" id=\"DejaVuSans-66\" transform=\"scale(0.015625)\"/>\n       </defs>\n       <use xlink:href=\"#DejaVuSans-50\"/>\n       <use x=\"55.802734\" xlink:href=\"#DejaVuSans-61\"/>\n       <use x=\"117.082031\" xlink:href=\"#DejaVuSans-63\"/>\n       <use x=\"172.0625\" xlink:href=\"#DejaVuSans-69\"/>\n       <use x=\"199.845703\" xlink:href=\"#DejaVuSans-66\"/>\n       <use x=\"235.050781\" xlink:href=\"#DejaVuSans-69\"/>\n       <use x=\"262.833984\" xlink:href=\"#DejaVuSans-63\"/>\n      </g>\n     </g>\n    </g>\n    <g id=\"xtick_7\">\n     <g id=\"line2d_7\">\n      <g>\n       <use style=\"stroke:#000000;stroke-width:0.8;\" x=\"438.070506\" xlink:href=\"#m583589fc7c\" y=\"239.758125\"/>\n      </g>\n     </g>\n     <g id=\"text_7\">\n      <!-- South Atlantic -->\n      <g transform=\"translate(376.177493 288.472159)rotate(-30)scale(0.1 -0.1)\">\n       <use xlink:href=\"#DejaVuSans-53\"/>\n       <use x=\"63.476562\" xlink:href=\"#DejaVuSans-6f\"/>\n       <use x=\"124.658203\" xlink:href=\"#DejaVuSans-75\"/>\n       <use x=\"188.037109\" xlink:href=\"#DejaVuSans-74\"/>\n       <use x=\"227.246094\" xlink:href=\"#DejaVuSans-68\"/>\n       <use x=\"290.625\" xlink:href=\"#DejaVuSans-20\"/>\n       <use x=\"322.412109\" xlink:href=\"#DejaVuSans-41\"/>\n       <use x=\"389.070312\" xlink:href=\"#DejaVuSans-74\"/>\n       <use x=\"428.279297\" xlink:href=\"#DejaVuSans-6c\"/>\n       <use x=\"456.0625\" xlink:href=\"#DejaVuSans-61\"/>\n       <use x=\"517.341797\" xlink:href=\"#DejaVuSans-6e\"/>\n       <use x=\"580.720703\" xlink:href=\"#DejaVuSans-74\"/>\n       <use x=\"619.929688\" xlink:href=\"#DejaVuSans-69\"/>\n       <use x=\"647.712891\" xlink:href=\"#DejaVuSans-63\"/>\n      </g>\n     </g>\n    </g>\n    <g id=\"xtick_8\">\n     <g id=\"line2d_8\">\n      <g>\n       <use style=\"stroke:#000000;stroke-width:0.8;\" x=\"495.715134\" xlink:href=\"#m583589fc7c\" y=\"239.758125\"/>\n      </g>\n     </g>\n     <g id=\"text_8\">\n      <!-- West North Central -->\n      <g transform=\"translate(412.126832 300.99794)rotate(-30)scale(0.1 -0.1)\">\n       <defs>\n        <path d=\"M 213 4666 \nL 850 4666 \nL 1831 722 \nL 2809 4666 \nL 3519 4666 \nL 4500 722 \nL 5478 4666 \nL 6119 4666 \nL 4947 0 \nL 4153 0 \nL 3169 4050 \nL 2175 0 \nL 1381 0 \nL 213 4666 \nz\n\" id=\"DejaVuSans-57\" transform=\"scale(0.015625)\"/>\n       </defs>\n       <use xlink:href=\"#DejaVuSans-57\"/>\n       <use x=\"93.001953\" xlink:href=\"#DejaVuSans-65\"/>\n       <use x=\"154.525391\" xlink:href=\"#DejaVuSans-73\"/>\n       <use x=\"206.625\" xlink:href=\"#DejaVuSans-74\"/>\n       <use x=\"245.833984\" xlink:href=\"#DejaVuSans-20\"/>\n       <use x=\"277.621094\" xlink:href=\"#DejaVuSans-4e\"/>\n       <use x=\"352.425781\" xlink:href=\"#DejaVuSans-6f\"/>\n       <use x=\"413.607422\" xlink:href=\"#DejaVuSans-72\"/>\n       <use x=\"454.720703\" xlink:href=\"#DejaVuSans-74\"/>\n       <use x=\"493.929688\" xlink:href=\"#DejaVuSans-68\"/>\n       <use x=\"557.308594\" xlink:href=\"#DejaVuSans-20\"/>\n       <use x=\"589.095703\" xlink:href=\"#DejaVuSans-43\"/>\n       <use x=\"658.919922\" xlink:href=\"#DejaVuSans-65\"/>\n       <use x=\"720.443359\" xlink:href=\"#DejaVuSans-6e\"/>\n       <use x=\"783.822266\" xlink:href=\"#DejaVuSans-74\"/>\n       <use x=\"823.03125\" xlink:href=\"#DejaVuSans-72\"/>\n       <use x=\"864.144531\" xlink:href=\"#DejaVuSans-61\"/>\n       <use x=\"925.423828\" xlink:href=\"#DejaVuSans-6c\"/>\n      </g>\n     </g>\n    </g>\n    <g id=\"xtick_9\">\n     <g id=\"line2d_9\">\n      <g>\n       <use style=\"stroke:#000000;stroke-width:0.8;\" x=\"553.359762\" xlink:href=\"#m583589fc7c\" y=\"239.758125\"/>\n      </g>\n     </g>\n     <g id=\"text_9\">\n      <!-- West South Central -->\n      <g transform=\"translate(468.824244 301.544815)rotate(-30)scale(0.1 -0.1)\">\n       <use xlink:href=\"#DejaVuSans-57\"/>\n       <use x=\"93.001953\" xlink:href=\"#DejaVuSans-65\"/>\n       <use x=\"154.525391\" xlink:href=\"#DejaVuSans-73\"/>\n       <use x=\"206.625\" xlink:href=\"#DejaVuSans-74\"/>\n       <use x=\"245.833984\" xlink:href=\"#DejaVuSans-20\"/>\n       <use x=\"277.621094\" xlink:href=\"#DejaVuSans-53\"/>\n       <use x=\"341.097656\" xlink:href=\"#DejaVuSans-6f\"/>\n       <use x=\"402.279297\" xlink:href=\"#DejaVuSans-75\"/>\n       <use x=\"465.658203\" xlink:href=\"#DejaVuSans-74\"/>\n       <use x=\"504.867188\" xlink:href=\"#DejaVuSans-68\"/>\n       <use x=\"568.246094\" xlink:href=\"#DejaVuSans-20\"/>\n       <use x=\"600.033203\" xlink:href=\"#DejaVuSans-43\"/>\n       <use x=\"669.857422\" xlink:href=\"#DejaVuSans-65\"/>\n       <use x=\"731.380859\" xlink:href=\"#DejaVuSans-6e\"/>\n       <use x=\"794.759766\" xlink:href=\"#DejaVuSans-74\"/>\n       <use x=\"833.96875\" xlink:href=\"#DejaVuSans-72\"/>\n       <use x=\"875.082031\" xlink:href=\"#DejaVuSans-61\"/>\n       <use x=\"936.361328\" xlink:href=\"#DejaVuSans-6c\"/>\n      </g>\n     </g>\n    </g>\n    <g id=\"text_10\">\n     <!-- user location -->\n     <g transform=\"translate(290.447656 314.944315)scale(0.1 -0.1)\">\n      <use xlink:href=\"#DejaVuSans-75\"/>\n      <use x=\"63.378906\" xlink:href=\"#DejaVuSans-73\"/>\n      <use x=\"115.478516\" xlink:href=\"#DejaVuSans-65\"/>\n      <use x=\"177.001953\" xlink:href=\"#DejaVuSans-72\"/>\n      <use x=\"218.115234\" xlink:href=\"#DejaVuSans-20\"/>\n      <use x=\"249.902344\" xlink:href=\"#DejaVuSans-6c\"/>\n      <use x=\"277.685547\" xlink:href=\"#DejaVuSans-6f\"/>\n      <use x=\"338.867188\" xlink:href=\"#DejaVuSans-63\"/>\n      <use x=\"393.847656\" xlink:href=\"#DejaVuSans-61\"/>\n      <use x=\"455.126953\" xlink:href=\"#DejaVuSans-74\"/>\n      <use x=\"494.335938\" xlink:href=\"#DejaVuSans-69\"/>\n      <use x=\"522.119141\" xlink:href=\"#DejaVuSans-6f\"/>\n      <use x=\"583.300781\" xlink:href=\"#DejaVuSans-6e\"/>\n     </g>\n    </g>\n   </g>\n   <g id=\"matplotlib.axis_2\">\n    <g id=\"ytick_1\">\n     <g id=\"line2d_10\">\n      <defs>\n       <path d=\"M 0 0 \nL -3.5 0 \n\" id=\"mbcc5843c03\" style=\"stroke:#000000;stroke-width:0.8;\"/>\n      </defs>\n      <g>\n       <use style=\"stroke:#000000;stroke-width:0.8;\" x=\"43.78125\" xlink:href=\"#mbcc5843c03\" y=\"239.758125\"/>\n      </g>\n     </g>\n     <g id=\"text_11\">\n      <!-- 0.0 -->\n      <g transform=\"translate(20.878125 243.557344)scale(0.1 -0.1)\">\n       <defs>\n        <path d=\"M 2034 4250 \nQ 1547 4250 1301 3770 \nQ 1056 3291 1056 2328 \nQ 1056 1369 1301 889 \nQ 1547 409 2034 409 \nQ 2525 409 2770 889 \nQ 3016 1369 3016 2328 \nQ 3016 3291 2770 3770 \nQ 2525 4250 2034 4250 \nz\nM 2034 4750 \nQ 2819 4750 3233 4129 \nQ 3647 3509 3647 2328 \nQ 3647 1150 3233 529 \nQ 2819 -91 2034 -91 \nQ 1250 -91 836 529 \nQ 422 1150 422 2328 \nQ 422 3509 836 4129 \nQ 1250 4750 2034 4750 \nz\n\" id=\"DejaVuSans-30\" transform=\"scale(0.015625)\"/>\n        <path d=\"M 684 794 \nL 1344 794 \nL 1344 0 \nL 684 0 \nL 684 794 \nz\n\" id=\"DejaVuSans-2e\" transform=\"scale(0.015625)\"/>\n       </defs>\n       <use xlink:href=\"#DejaVuSans-30\"/>\n       <use x=\"63.623047\" xlink:href=\"#DejaVuSans-2e\"/>\n       <use x=\"95.410156\" xlink:href=\"#DejaVuSans-30\"/>\n      </g>\n     </g>\n    </g>\n    <g id=\"ytick_2\">\n     <g id=\"line2d_11\">\n      <g>\n       <use style=\"stroke:#000000;stroke-width:0.8;\" x=\"43.78125\" xlink:href=\"#mbcc5843c03\" y=\"198.340982\"/>\n      </g>\n     </g>\n     <g id=\"text_12\">\n      <!-- 0.1 -->\n      <g transform=\"translate(20.878125 202.140201)scale(0.1 -0.1)\">\n       <defs>\n        <path d=\"M 794 531 \nL 1825 531 \nL 1825 4091 \nL 703 3866 \nL 703 4441 \nL 1819 4666 \nL 2450 4666 \nL 2450 531 \nL 3481 531 \nL 3481 0 \nL 794 0 \nL 794 531 \nz\n\" id=\"DejaVuSans-31\" transform=\"scale(0.015625)\"/>\n       </defs>\n       <use xlink:href=\"#DejaVuSans-30\"/>\n       <use x=\"63.623047\" xlink:href=\"#DejaVuSans-2e\"/>\n       <use x=\"95.410156\" xlink:href=\"#DejaVuSans-31\"/>\n      </g>\n     </g>\n    </g>\n    <g id=\"ytick_3\">\n     <g id=\"line2d_12\">\n      <g>\n       <use style=\"stroke:#000000;stroke-width:0.8;\" x=\"43.78125\" xlink:href=\"#mbcc5843c03\" y=\"156.923839\"/>\n      </g>\n     </g>\n     <g id=\"text_13\">\n      <!-- 0.2 -->\n      <g transform=\"translate(20.878125 160.723058)scale(0.1 -0.1)\">\n       <defs>\n        <path d=\"M 1228 531 \nL 3431 531 \nL 3431 0 \nL 469 0 \nL 469 531 \nQ 828 903 1448 1529 \nQ 2069 2156 2228 2338 \nQ 2531 2678 2651 2914 \nQ 2772 3150 2772 3378 \nQ 2772 3750 2511 3984 \nQ 2250 4219 1831 4219 \nQ 1534 4219 1204 4116 \nQ 875 4013 500 3803 \nL 500 4441 \nQ 881 4594 1212 4672 \nQ 1544 4750 1819 4750 \nQ 2544 4750 2975 4387 \nQ 3406 4025 3406 3419 \nQ 3406 3131 3298 2873 \nQ 3191 2616 2906 2266 \nQ 2828 2175 2409 1742 \nQ 1991 1309 1228 531 \nz\n\" id=\"DejaVuSans-32\" transform=\"scale(0.015625)\"/>\n       </defs>\n       <use xlink:href=\"#DejaVuSans-30\"/>\n       <use x=\"63.623047\" xlink:href=\"#DejaVuSans-2e\"/>\n       <use x=\"95.410156\" xlink:href=\"#DejaVuSans-32\"/>\n      </g>\n     </g>\n    </g>\n    <g id=\"ytick_4\">\n     <g id=\"line2d_13\">\n      <g>\n       <use style=\"stroke:#000000;stroke-width:0.8;\" x=\"43.78125\" xlink:href=\"#mbcc5843c03\" y=\"115.506696\"/>\n      </g>\n     </g>\n     <g id=\"text_14\">\n      <!-- 0.3 -->\n      <g transform=\"translate(20.878125 119.305915)scale(0.1 -0.1)\">\n       <defs>\n        <path d=\"M 2597 2516 \nQ 3050 2419 3304 2112 \nQ 3559 1806 3559 1356 \nQ 3559 666 3084 287 \nQ 2609 -91 1734 -91 \nQ 1441 -91 1130 -33 \nQ 819 25 488 141 \nL 488 750 \nQ 750 597 1062 519 \nQ 1375 441 1716 441 \nQ 2309 441 2620 675 \nQ 2931 909 2931 1356 \nQ 2931 1769 2642 2001 \nQ 2353 2234 1838 2234 \nL 1294 2234 \nL 1294 2753 \nL 1863 2753 \nQ 2328 2753 2575 2939 \nQ 2822 3125 2822 3475 \nQ 2822 3834 2567 4026 \nQ 2313 4219 1838 4219 \nQ 1578 4219 1281 4162 \nQ 984 4106 628 3988 \nL 628 4550 \nQ 988 4650 1302 4700 \nQ 1616 4750 1894 4750 \nQ 2613 4750 3031 4423 \nQ 3450 4097 3450 3541 \nQ 3450 3153 3228 2886 \nQ 3006 2619 2597 2516 \nz\n\" id=\"DejaVuSans-33\" transform=\"scale(0.015625)\"/>\n       </defs>\n       <use xlink:href=\"#DejaVuSans-30\"/>\n       <use x=\"63.623047\" xlink:href=\"#DejaVuSans-2e\"/>\n       <use x=\"95.410156\" xlink:href=\"#DejaVuSans-33\"/>\n      </g>\n     </g>\n    </g>\n    <g id=\"ytick_5\">\n     <g id=\"line2d_14\">\n      <g>\n       <use style=\"stroke:#000000;stroke-width:0.8;\" x=\"43.78125\" xlink:href=\"#mbcc5843c03\" y=\"74.089554\"/>\n      </g>\n     </g>\n     <g id=\"text_15\">\n      <!-- 0.4 -->\n      <g transform=\"translate(20.878125 77.888772)scale(0.1 -0.1)\">\n       <defs>\n        <path d=\"M 2419 4116 \nL 825 1625 \nL 2419 1625 \nL 2419 4116 \nz\nM 2253 4666 \nL 3047 4666 \nL 3047 1625 \nL 3713 1625 \nL 3713 1100 \nL 3047 1100 \nL 3047 0 \nL 2419 0 \nL 2419 1100 \nL 313 1100 \nL 313 1709 \nL 2253 4666 \nz\n\" id=\"DejaVuSans-34\" transform=\"scale(0.015625)\"/>\n       </defs>\n       <use xlink:href=\"#DejaVuSans-30\"/>\n       <use x=\"63.623047\" xlink:href=\"#DejaVuSans-2e\"/>\n       <use x=\"95.410156\" xlink:href=\"#DejaVuSans-34\"/>\n      </g>\n     </g>\n    </g>\n    <g id=\"ytick_6\">\n     <g id=\"line2d_15\">\n      <g>\n       <use style=\"stroke:#000000;stroke-width:0.8;\" x=\"43.78125\" xlink:href=\"#mbcc5843c03\" y=\"32.672411\"/>\n      </g>\n     </g>\n     <g id=\"text_16\">\n      <!-- 0.5 -->\n      <g transform=\"translate(20.878125 36.471629)scale(0.1 -0.1)\">\n       <defs>\n        <path d=\"M 691 4666 \nL 3169 4666 \nL 3169 4134 \nL 1269 4134 \nL 1269 2991 \nQ 1406 3038 1543 3061 \nQ 1681 3084 1819 3084 \nQ 2600 3084 3056 2656 \nQ 3513 2228 3513 1497 \nQ 3513 744 3044 326 \nQ 2575 -91 1722 -91 \nQ 1428 -91 1123 -41 \nQ 819 9 494 109 \nL 494 744 \nQ 775 591 1075 516 \nQ 1375 441 1709 441 \nQ 2250 441 2565 725 \nQ 2881 1009 2881 1497 \nQ 2881 1984 2565 2268 \nQ 2250 2553 1709 2553 \nQ 1456 2553 1204 2497 \nQ 953 2441 691 2322 \nL 691 4666 \nz\n\" id=\"DejaVuSans-35\" transform=\"scale(0.015625)\"/>\n       </defs>\n       <use xlink:href=\"#DejaVuSans-30\"/>\n       <use x=\"63.623047\" xlink:href=\"#DejaVuSans-2e\"/>\n       <use x=\"95.410156\" xlink:href=\"#DejaVuSans-35\"/>\n      </g>\n     </g>\n    </g>\n    <g id=\"text_17\">\n     <!-- rate of churn -->\n     <g transform=\"translate(14.798438 163.415469)rotate(-90)scale(0.1 -0.1)\">\n      <use xlink:href=\"#DejaVuSans-72\"/>\n      <use x=\"41.113281\" xlink:href=\"#DejaVuSans-61\"/>\n      <use x=\"102.392578\" xlink:href=\"#DejaVuSans-74\"/>\n      <use x=\"141.601562\" xlink:href=\"#DejaVuSans-65\"/>\n      <use x=\"203.125\" xlink:href=\"#DejaVuSans-20\"/>\n      <use x=\"234.912109\" xlink:href=\"#DejaVuSans-6f\"/>\n      <use x=\"296.09375\" xlink:href=\"#DejaVuSans-66\"/>\n      <use x=\"331.298828\" xlink:href=\"#DejaVuSans-20\"/>\n      <use x=\"363.085938\" xlink:href=\"#DejaVuSans-63\"/>\n      <use x=\"418.066406\" xlink:href=\"#DejaVuSans-68\"/>\n      <use x=\"481.445312\" xlink:href=\"#DejaVuSans-75\"/>\n      <use x=\"544.824219\" xlink:href=\"#DejaVuSans-72\"/>\n      <use x=\"584.1875\" xlink:href=\"#DejaVuSans-6e\"/>\n     </g>\n    </g>\n   </g>\n   <g id=\"patch_12\">\n    <path d=\"M 43.78125 239.758125 \nL 43.78125 22.318125 \n\" style=\"fill:none;stroke:#000000;stroke-linecap:square;stroke-linejoin:miter;stroke-width:0.8;\"/>\n   </g>\n   <g id=\"patch_13\">\n    <path d=\"M 601.78125 239.758125 \nL 601.78125 22.318125 \n\" style=\"fill:none;stroke:#000000;stroke-linecap:square;stroke-linejoin:miter;stroke-width:0.8;\"/>\n   </g>\n   <g id=\"patch_14\">\n    <path d=\"M 43.78125 239.758125 \nL 601.78125 239.758125 \n\" style=\"fill:none;stroke:#000000;stroke-linecap:square;stroke-linejoin:miter;stroke-width:0.8;\"/>\n   </g>\n   <g id=\"patch_15\">\n    <path d=\"M 43.78125 22.318125 \nL 601.78125 22.318125 \n\" style=\"fill:none;stroke:#000000;stroke-linecap:square;stroke-linejoin:miter;stroke-width:0.8;\"/>\n   </g>\n   <g id=\"text_18\">\n    <!-- rate of churn against locations -->\n    <g transform=\"translate(231.072187 16.318125)scale(0.12 -0.12)\">\n     <use xlink:href=\"#DejaVuSans-72\"/>\n     <use x=\"41.113281\" xlink:href=\"#DejaVuSans-61\"/>\n     <use x=\"102.392578\" xlink:href=\"#DejaVuSans-74\"/>\n     <use x=\"141.601562\" xlink:href=\"#DejaVuSans-65\"/>\n     <use x=\"203.125\" xlink:href=\"#DejaVuSans-20\"/>\n     <use x=\"234.912109\" xlink:href=\"#DejaVuSans-6f\"/>\n     <use x=\"296.09375\" xlink:href=\"#DejaVuSans-66\"/>\n     <use x=\"331.298828\" xlink:href=\"#DejaVuSans-20\"/>\n     <use x=\"363.085938\" xlink:href=\"#DejaVuSans-63\"/>\n     <use x=\"418.066406\" xlink:href=\"#DejaVuSans-68\"/>\n     <use x=\"481.445312\" xlink:href=\"#DejaVuSans-75\"/>\n     <use x=\"544.824219\" xlink:href=\"#DejaVuSans-72\"/>\n     <use x=\"584.1875\" xlink:href=\"#DejaVuSans-6e\"/>\n     <use x=\"647.566406\" xlink:href=\"#DejaVuSans-20\"/>\n     <use x=\"679.353516\" xlink:href=\"#DejaVuSans-61\"/>\n     <use x=\"740.632812\" xlink:href=\"#DejaVuSans-67\"/>\n     <use x=\"804.109375\" xlink:href=\"#DejaVuSans-61\"/>\n     <use x=\"865.388672\" xlink:href=\"#DejaVuSans-69\"/>\n     <use x=\"893.171875\" xlink:href=\"#DejaVuSans-6e\"/>\n     <use x=\"956.550781\" xlink:href=\"#DejaVuSans-73\"/>\n     <use x=\"1008.650391\" xlink:href=\"#DejaVuSans-74\"/>\n     <use x=\"1047.859375\" xlink:href=\"#DejaVuSans-20\"/>\n     <use x=\"1079.646484\" xlink:href=\"#DejaVuSans-6c\"/>\n     <use x=\"1107.429688\" xlink:href=\"#DejaVuSans-6f\"/>\n     <use x=\"1168.611328\" xlink:href=\"#DejaVuSans-63\"/>\n     <use x=\"1223.591797\" xlink:href=\"#DejaVuSans-61\"/>\n     <use x=\"1284.871094\" xlink:href=\"#DejaVuSans-74\"/>\n     <use x=\"1324.080078\" xlink:href=\"#DejaVuSans-69\"/>\n     <use x=\"1351.863281\" xlink:href=\"#DejaVuSans-6f\"/>\n     <use x=\"1413.044922\" xlink:href=\"#DejaVuSans-6e\"/>\n     <use x=\"1476.423828\" xlink:href=\"#DejaVuSans-73\"/>\n    </g>\n   </g>\n  </g>\n </g>\n <defs>\n  <clipPath id=\"p0ea136adfe\">\n   <rect height=\"217.44\" width=\"558\" x=\"43.78125\" y=\"22.318125\"/>\n  </clipPath>\n </defs>\n</svg>\n",
      "image/png": "[encoded data removed]"
     },
     "metadata": {
      "needs_background": "light"
     }
    }
   ],
   "metadata": {}
  },
  {
   "cell_type": "code",
   "execution_count": null,
   "source": [
    "# 'East South Central', 'East North Central' and 'West South Central' are the 3 regions with highest rate of churn\n",
    "# Geographically, the three regions are nearby so the results are sound\n",
    "# development team should look into the user group of these area, to see if they have a different user behaviour\n",
    "# and make adjustment to the algorithm\n",
    "# further study is needed for the perfect zero rate of churn in 'New England'"
   ],
   "outputs": [],
   "metadata": {}
  },
  {
   "cell_type": "code",
   "execution_count": null,
   "source": [],
   "outputs": [],
   "metadata": {}
  },
  {
   "cell_type": "code",
   "execution_count": null,
   "source": [],
   "outputs": [],
   "metadata": {}
  },
  {
   "cell_type": "code",
   "execution_count": null,
   "source": [
    "# END"
   ],
   "outputs": [],
   "metadata": {}
  }
 ]
}